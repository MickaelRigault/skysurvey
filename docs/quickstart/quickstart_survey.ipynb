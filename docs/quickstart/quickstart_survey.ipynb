{
 "cells": [
  {
   "cell_type": "markdown",
   "id": "b60ec1f5",
   "metadata": {},
   "source": [
    "# (Grid)Survey\n",
    "\n",
    "Learn how to create a generic survey that observes anywhere in the sky.\n",
    "\n",
    "`Survey` and `GridSurvey` are objects containing a footprint (imprint of the camera on the sky) and an observing strategy (where did you pointed the telescope with which filter etc.).\n",
    "\n",
    "The main difference is that `GridSurvey` has a set of pre-defined **fields**, while `Survey` has not."
   ]
  },
  {
   "cell_type": "markdown",
   "id": "7e8fcbc3",
   "metadata": {},
   "source": [
    "***\n",
    "## Survey: *footprint* and *pointings*\n",
    "\n",
    "Let's start with the most generic survey. It needs:\n",
    "- `data`: an observing strategy (ra, dec, mjd, band, zp, skynoise etc...)\n",
    "- `footprint`: the camera footprint in the sky (in degree)\n",
    "\n",
    "### 1. Define the footprint\n",
    "For this example, let's use a simple 1 degree-radius camera footprint.\n",
    "\n",
    "The footprint in `skysurvey` is based on [shapely](https://shapely.readthedocs.io/en/stable/manual.html)"
   ]
  },
  {
   "cell_type": "code",
   "execution_count": 1,
   "id": "76ddfdd1",
   "metadata": {},
   "outputs": [
    {
     "data": {
      "image/svg+xml": [
       "<svg xmlns=\"http://www.w3.org/2000/svg\" xmlns:xlink=\"http://www.w3.org/1999/xlink\" width=\"100.0\" height=\"100.0\" viewBox=\"-1.08 -1.08 2.16 2.16\" preserveAspectRatio=\"xMinYMin meet\"><g transform=\"matrix(1,0,0,-1,0,0.0)\"><path fill-rule=\"evenodd\" fill=\"#66cc99\" stroke=\"#555555\" stroke-width=\"0.0432\" opacity=\"0.6\" d=\"M 1.0,0.0 L 0.9951847266721969,-0.0980171403295606 L 0.9807852804032304,-0.19509032201612825 L 0.9569403357322088,-0.29028467725446233 L 0.9238795325112867,-0.3826834323650898 L 0.881921264348355,-0.47139673682599764 L 0.8314696123025452,-0.5555702330196022 L 0.773010453362737,-0.6343932841636455 L 0.7071067811865476,-0.7071067811865475 L 0.6343932841636455,-0.773010453362737 L 0.5555702330196023,-0.8314696123025452 L 0.4713967368259978,-0.8819212643483549 L 0.38268343236508984,-0.9238795325112867 L 0.29028467725446233,-0.9569403357322088 L 0.19509032201612833,-0.9807852804032304 L 0.09801714032956077,-0.9951847266721968 L 6.123233995736766e-17,-1.0 L -0.09801714032956065,-0.9951847266721969 L -0.1950903220161282,-0.9807852804032304 L -0.29028467725446216,-0.9569403357322089 L -0.3826834323650897,-0.9238795325112867 L -0.4713967368259977,-0.881921264348355 L -0.555570233019602,-0.8314696123025453 L -0.6343932841636454,-0.7730104533627371 L -0.7071067811865475,-0.7071067811865476 L -0.773010453362737,-0.6343932841636455 L -0.8314696123025453,-0.5555702330196022 L -0.8819212643483549,-0.47139673682599786 L -0.9238795325112867,-0.3826834323650899 L -0.9569403357322088,-0.2902846772544624 L -0.9807852804032304,-0.1950903220161286 L -0.9951847266721968,-0.09801714032956083 L -1.0,-1.2246467991473532e-16 L -0.9951847266721969,0.09801714032956059 L -0.9807852804032304,0.19509032201612836 L -0.9569403357322089,0.2902846772544621 L -0.9238795325112868,0.38268343236508967 L -0.881921264348355,0.47139673682599764 L -0.8314696123025455,0.555570233019602 L -0.7730104533627371,0.6343932841636453 L -0.7071067811865477,0.7071067811865475 L -0.6343932841636458,0.7730104533627367 L -0.5555702330196022,0.8314696123025452 L -0.4713967368259979,0.8819212643483549 L -0.38268343236509034,0.9238795325112865 L -0.29028467725446244,0.9569403357322088 L -0.19509032201612866,0.9807852804032303 L -0.09801714032956045,0.9951847266721969 L -1.8369701987210297e-16,1.0 L 0.09801714032956009,0.9951847266721969 L 0.1950903220161283,0.9807852804032304 L 0.29028467725446205,0.9569403357322089 L 0.38268343236509,0.9238795325112866 L 0.4713967368259976,0.881921264348355 L 0.5555702330196018,0.8314696123025455 L 0.6343932841636456,0.7730104533627369 L 0.7071067811865474,0.7071067811865477 L 0.7730104533627367,0.6343932841636459 L 0.8314696123025452,0.5555702330196022 L 0.8819212643483548,0.471396736825998 L 0.9238795325112865,0.3826834323650904 L 0.9569403357322088,0.2902846772544625 L 0.9807852804032303,0.19509032201612872 L 0.9951847266721969,0.0980171403295605 L 1.0,0.0 z\" /></g></svg>"
      ],
      "text/plain": [
       "<POLYGON ((1 0, 0.995 -0.098, 0.981 -0.195, 0.957 -0.29, 0.924 -0.383, 0.882...>"
      ]
     },
     "execution_count": 1,
     "metadata": {},
     "output_type": "execute_result"
    }
   ],
   "source": [
    "from shapely import geometry\n",
    "footprint = geometry.Point(0,0).buffer(1)\n",
    "footprint"
   ]
  },
  {
   "cell_type": "markdown",
   "id": "67154373",
   "metadata": {},
   "source": [
    "### 2. Define the observing strategy\n",
    "\n",
    "Say we will do 10_000 pointings: \n",
    "- `ra = [200,300]` and `dec =[-20,10]`. \n",
    "- `gain`: will be 1\n",
    "- `skynoise`: between 150 ± 20\n",
    "- `zp`: 30\n",
    "- `mjd`: between march 2020 and april 2020\n",
    "- `band`: will be desg, desr or desi\n",
    "\n",
    "`skysurvey` data are based on `pandas.DataFrame` (you can provide dict, this will be converted though)"
   ]
  },
  {
   "cell_type": "code",
   "execution_count": 2,
   "id": "a9f644e3",
   "metadata": {},
   "outputs": [],
   "source": [
    "import pandas\n",
    "import numpy as np\n",
    "from skysurvey.tools import utils\n",
    "from astropy.time import Time"
   ]
  },
  {
   "cell_type": "code",
   "execution_count": 3,
   "id": "81ac1b21",
   "metadata": {},
   "outputs": [
    {
     "data": {
      "text/html": [
       "<div>\n",
       "<style scoped>\n",
       "    .dataframe tbody tr th:only-of-type {\n",
       "        vertical-align: middle;\n",
       "    }\n",
       "\n",
       "    .dataframe tbody tr th {\n",
       "        vertical-align: top;\n",
       "    }\n",
       "\n",
       "    .dataframe thead th {\n",
       "        text-align: right;\n",
       "    }\n",
       "</style>\n",
       "<table border=\"1\" class=\"dataframe\">\n",
       "  <thead>\n",
       "    <tr style=\"text-align: right;\">\n",
       "      <th></th>\n",
       "      <th>ra</th>\n",
       "      <th>dec</th>\n",
       "      <th>gain</th>\n",
       "      <th>zp</th>\n",
       "      <th>skynoise</th>\n",
       "      <th>mjd</th>\n",
       "      <th>band</th>\n",
       "    </tr>\n",
       "  </thead>\n",
       "  <tbody>\n",
       "    <tr>\n",
       "      <th>0</th>\n",
       "      <td>203.734215</td>\n",
       "      <td>-10.845189</td>\n",
       "      <td>1</td>\n",
       "      <td>30</td>\n",
       "      <td>134.604820</td>\n",
       "      <td>58926.019592</td>\n",
       "      <td>desi</td>\n",
       "    </tr>\n",
       "    <tr>\n",
       "      <th>1</th>\n",
       "      <td>245.608116</td>\n",
       "      <td>7.143275</td>\n",
       "      <td>1</td>\n",
       "      <td>30</td>\n",
       "      <td>149.793298</td>\n",
       "      <td>58914.001713</td>\n",
       "      <td>desi</td>\n",
       "    </tr>\n",
       "    <tr>\n",
       "      <th>2</th>\n",
       "      <td>248.921343</td>\n",
       "      <td>-3.617716</td>\n",
       "      <td>1</td>\n",
       "      <td>30</td>\n",
       "      <td>126.446520</td>\n",
       "      <td>58912.497486</td>\n",
       "      <td>desr</td>\n",
       "    </tr>\n",
       "    <tr>\n",
       "      <th>3</th>\n",
       "      <td>215.681984</td>\n",
       "      <td>9.748426</td>\n",
       "      <td>1</td>\n",
       "      <td>30</td>\n",
       "      <td>157.865103</td>\n",
       "      <td>58914.286535</td>\n",
       "      <td>desi</td>\n",
       "    </tr>\n",
       "    <tr>\n",
       "      <th>4</th>\n",
       "      <td>240.525379</td>\n",
       "      <td>5.598356</td>\n",
       "      <td>1</td>\n",
       "      <td>30</td>\n",
       "      <td>157.504097</td>\n",
       "      <td>58937.500915</td>\n",
       "      <td>desg</td>\n",
       "    </tr>\n",
       "  </tbody>\n",
       "</table>\n",
       "</div>"
      ],
      "text/plain": [
       "           ra        dec  gain  zp    skynoise           mjd  band\n",
       "0  203.734215 -10.845189     1  30  134.604820  58926.019592  desi\n",
       "1  245.608116   7.143275     1  30  149.793298  58914.001713  desi\n",
       "2  248.921343  -3.617716     1  30  126.446520  58912.497486  desr\n",
       "3  215.681984   9.748426     1  30  157.865103  58914.286535  desi\n",
       "4  240.525379   5.598356     1  30  157.504097  58937.500915  desg"
      ]
     },
     "execution_count": 3,
     "metadata": {},
     "output_type": "execute_result"
    }
   ],
   "source": [
    "from skysurvey.tools import utils\n",
    "from astropy.time import Time\n",
    "size = 10_000\n",
    "data = {}\n",
    "\n",
    "ra, dec = utils.random_radec(size=size, ra_range=[200,250], dec_range=[-20,10])\n",
    "data[\"ra\"] = ra\n",
    "data[\"dec\"] = dec\n",
    "data[\"gain\"] = 1\n",
    "data[\"zp\"] = 30\n",
    "data[\"skynoise\"] = np.random.normal(size=size, loc=150, scale=20)\n",
    "data[\"mjd\"] = np.random.uniform(Time(\"2020-03-01\").mjd, Time(\"2020-04-01\").mjd, size=size)\n",
    "data[\"band\"] = np.random.choice([\"desg\",\"desr\",\"desi\"], size=size)\n",
    "\n",
    "data = pandas.DataFrame.from_dict(data)\n",
    "data.head()"
   ]
  },
  {
   "cell_type": "markdown",
   "id": "ed7e777c",
   "metadata": {},
   "source": [
    "### load a Survey  `from_pointings()`"
   ]
  },
  {
   "cell_type": "code",
   "execution_count": 6,
   "id": "ff37b039",
   "metadata": {},
   "outputs": [],
   "source": [
    "import skysurvey\n",
    "survey = skysurvey.Survey.from_pointings(data, footprint=footprint)"
   ]
  },
  {
   "cell_type": "code",
   "execution_count": 7,
   "id": "71c3ae2d",
   "metadata": {},
   "outputs": [
    {
     "data": {
      "image/png": "[encoded data removed]",
      "text/plain": [
       "<Figure size 612x388.8 with 2 Axes>"
      ]
     },
     "metadata": {
      "needs_background": "light"
     },
     "output_type": "display_data"
    }
   ],
   "source": [
    "survey.show()"
   ]
  },
  {
   "cell_type": "markdown",
   "id": "2961e5f1",
   "metadata": {},
   "source": [
    "### DataFrame Based\n",
    "\n",
    "survey.data (like any other skysurvey element) is a pandas.dataframe, so flexible and fast"
   ]
  },
  {
   "cell_type": "code",
   "execution_count": 8,
   "id": "7a7f7791",
   "metadata": {},
   "outputs": [
    {
     "data": {
      "text/html": [
       "<div>\n",
       "<style scoped>\n",
       "    .dataframe tbody tr th:only-of-type {\n",
       "        vertical-align: middle;\n",
       "    }\n",
       "\n",
       "    .dataframe tbody tr th {\n",
       "        vertical-align: top;\n",
       "    }\n",
       "\n",
       "    .dataframe thead th {\n",
       "        text-align: right;\n",
       "    }\n",
       "</style>\n",
       "<table border=\"1\" class=\"dataframe\">\n",
       "  <thead>\n",
       "    <tr style=\"text-align: right;\">\n",
       "      <th></th>\n",
       "      <th>ra</th>\n",
       "      <th>dec</th>\n",
       "      <th>gain</th>\n",
       "      <th>zp</th>\n",
       "      <th>skynoise</th>\n",
       "      <th>mjd</th>\n",
       "      <th>band</th>\n",
       "      <th>fieldid_survey</th>\n",
       "      <th>fieldid</th>\n",
       "    </tr>\n",
       "  </thead>\n",
       "  <tbody>\n",
       "    <tr>\n",
       "      <th>0</th>\n",
       "      <td>238.967056</td>\n",
       "      <td>9.991489</td>\n",
       "      <td>1</td>\n",
       "      <td>30</td>\n",
       "      <td>134.854340</td>\n",
       "      <td>58909.968750</td>\n",
       "      <td>desi</td>\n",
       "      <td>7578</td>\n",
       "      <td>194669</td>\n",
       "    </tr>\n",
       "    <tr>\n",
       "      <th>1</th>\n",
       "      <td>232.702621</td>\n",
       "      <td>9.993823</td>\n",
       "      <td>1</td>\n",
       "      <td>30</td>\n",
       "      <td>156.067108</td>\n",
       "      <td>58925.039062</td>\n",
       "      <td>desg</td>\n",
       "      <td>8678</td>\n",
       "      <td>194683</td>\n",
       "    </tr>\n",
       "    <tr>\n",
       "      <th>2</th>\n",
       "      <td>223.834122</td>\n",
       "      <td>9.989252</td>\n",
       "      <td>1</td>\n",
       "      <td>30</td>\n",
       "      <td>100.794708</td>\n",
       "      <td>58929.546875</td>\n",
       "      <td>desr</td>\n",
       "      <td>2700</td>\n",
       "      <td>194702</td>\n",
       "    </tr>\n",
       "    <tr>\n",
       "      <th>3</th>\n",
       "      <td>223.834122</td>\n",
       "      <td>9.989252</td>\n",
       "      <td>1</td>\n",
       "      <td>30</td>\n",
       "      <td>100.794708</td>\n",
       "      <td>58929.546875</td>\n",
       "      <td>desr</td>\n",
       "      <td>2700</td>\n",
       "      <td>194703</td>\n",
       "    </tr>\n",
       "    <tr>\n",
       "      <th>4</th>\n",
       "      <td>213.658463</td>\n",
       "      <td>9.985991</td>\n",
       "      <td>1</td>\n",
       "      <td>30</td>\n",
       "      <td>154.274536</td>\n",
       "      <td>58934.253906</td>\n",
       "      <td>desg</td>\n",
       "      <td>686</td>\n",
       "      <td>194725</td>\n",
       "    </tr>\n",
       "    <tr>\n",
       "      <th>...</th>\n",
       "      <td>...</td>\n",
       "      <td>...</td>\n",
       "      <td>...</td>\n",
       "      <td>...</td>\n",
       "      <td>...</td>\n",
       "      <td>...</td>\n",
       "      <td>...</td>\n",
       "      <td>...</td>\n",
       "      <td>...</td>\n",
       "    </tr>\n",
       "    <tr>\n",
       "      <th>364899</th>\n",
       "      <td>208.816757</td>\n",
       "      <td>-19.948879</td>\n",
       "      <td>1</td>\n",
       "      <td>30</td>\n",
       "      <td>136.481613</td>\n",
       "      <td>58912.476562</td>\n",
       "      <td>desi</td>\n",
       "      <td>7295</td>\n",
       "      <td>325936</td>\n",
       "    </tr>\n",
       "    <tr>\n",
       "      <th>364900</th>\n",
       "      <td>208.087814</td>\n",
       "      <td>-19.954334</td>\n",
       "      <td>1</td>\n",
       "      <td>30</td>\n",
       "      <td>151.730865</td>\n",
       "      <td>58930.867188</td>\n",
       "      <td>desr</td>\n",
       "      <td>2002</td>\n",
       "      <td>325937</td>\n",
       "    </tr>\n",
       "    <tr>\n",
       "      <th>364901</th>\n",
       "      <td>208.087814</td>\n",
       "      <td>-19.954334</td>\n",
       "      <td>1</td>\n",
       "      <td>30</td>\n",
       "      <td>151.730865</td>\n",
       "      <td>58930.867188</td>\n",
       "      <td>desr</td>\n",
       "      <td>2002</td>\n",
       "      <td>325938</td>\n",
       "    </tr>\n",
       "    <tr>\n",
       "      <th>364902</th>\n",
       "      <td>205.706207</td>\n",
       "      <td>-19.942360</td>\n",
       "      <td>1</td>\n",
       "      <td>30</td>\n",
       "      <td>140.218582</td>\n",
       "      <td>58918.582031</td>\n",
       "      <td>desi</td>\n",
       "      <td>2120</td>\n",
       "      <td>325943</td>\n",
       "    </tr>\n",
       "    <tr>\n",
       "      <th>364903</th>\n",
       "      <td>205.317245</td>\n",
       "      <td>-19.938751</td>\n",
       "      <td>1</td>\n",
       "      <td>30</td>\n",
       "      <td>157.663254</td>\n",
       "      <td>58935.652344</td>\n",
       "      <td>desg</td>\n",
       "      <td>2587</td>\n",
       "      <td>325944</td>\n",
       "    </tr>\n",
       "  </tbody>\n",
       "</table>\n",
       "<p>364904 rows × 9 columns</p>\n",
       "</div>"
      ],
      "text/plain": [
       "                ra        dec  gain  zp    skynoise           mjd  band  \\\n",
       "0       238.967056   9.991489     1  30  134.854340  58909.968750  desi   \n",
       "1       232.702621   9.993823     1  30  156.067108  58925.039062  desg   \n",
       "2       223.834122   9.989252     1  30  100.794708  58929.546875  desr   \n",
       "3       223.834122   9.989252     1  30  100.794708  58929.546875  desr   \n",
       "4       213.658463   9.985991     1  30  154.274536  58934.253906  desg   \n",
       "...            ...        ...   ...  ..         ...           ...   ...   \n",
       "364899  208.816757 -19.948879     1  30  136.481613  58912.476562  desi   \n",
       "364900  208.087814 -19.954334     1  30  151.730865  58930.867188  desr   \n",
       "364901  208.087814 -19.954334     1  30  151.730865  58930.867188  desr   \n",
       "364902  205.706207 -19.942360     1  30  140.218582  58918.582031  desi   \n",
       "364903  205.317245 -19.938751     1  30  157.663254  58935.652344  desg   \n",
       "\n",
       "        fieldid_survey  fieldid  \n",
       "0                 7578   194669  \n",
       "1                 8678   194683  \n",
       "2                 2700   194702  \n",
       "3                 2700   194703  \n",
       "4                  686   194725  \n",
       "...                ...      ...  \n",
       "364899            7295   325936  \n",
       "364900            2002   325937  \n",
       "364901            2002   325938  \n",
       "364902            2120   325943  \n",
       "364903            2587   325944  \n",
       "\n",
       "[364904 rows x 9 columns]"
      ]
     },
     "execution_count": 8,
     "metadata": {},
     "output_type": "execute_result"
    }
   ],
   "source": [
    "survey.data # Show the data generated. time, band sky noise, gain, zp and fieldid."
   ]
  },
  {
   "cell_type": "markdown",
   "id": "70a28f36",
   "metadata": {},
   "source": [
    "### `Survey` is based on `healpix`\n",
    "\n",
    "For `Survey` has no pre-defined fields, the sky is based on healpy. When you load the instance, `skysurvey` computes which healpix pixel has been observed. By default, healpix's **nside** is 200 (so a pixel is 0.08 deg^2 ; see `survey.get_field_area()`) ; **nside** is a Survey loading option."
   ]
  },
  {
   "cell_type": "code",
   "execution_count": 9,
   "id": "0cfe3bd5",
   "metadata": {},
   "outputs": [
    {
     "data": {
      "text/plain": [
       "0.08594366926962348"
      ]
     },
     "execution_count": 9,
     "metadata": {},
     "output_type": "execute_result"
    }
   ],
   "source": [
    "# \"field\" surface in square degree. field here corresponds to a healpix pixel.\n",
    "survey.get_field_area()"
   ]
  },
  {
   "cell_type": "markdown",
   "id": "e939d2d8",
   "metadata": {},
   "source": [
    "### info: fieldids and fieldids_survey\n",
    "\n",
    "- **fieldid**: unit of sky area, in Survey, that is healpix based, this corresponds to a healpix pixel.\n",
    "- **fieldid_survey**: This is the fieldid corresponding to the initial pointing strategy you input (ra, dec).\n",
    "\n",
    "Depending on you healpix resolution, you are likely to have many fieldid (healpix pixel) per fieldid_survey (footprint at the given RA, Dec). In that example, approximately 36. This makes sense since the camera has a \"π deg^2\" footprint, and the pixel area is 0.086 (pi/0.086 = 36.5)"
   ]
  },
  {
   "cell_type": "code",
   "execution_count": 10,
   "id": "c52ab0cc",
   "metadata": {},
   "outputs": [
    {
     "data": {
      "text/plain": [
       "fieldid_survey\n",
       "0       35\n",
       "1       37\n",
       "2       38\n",
       "3       36\n",
       "4       35\n",
       "        ..\n",
       "9995    37\n",
       "9996    38\n",
       "9997    35\n",
       "9998    35\n",
       "9999    38\n",
       "Name: fieldid, Length: 10000, dtype: int64"
      ]
     },
     "execution_count": 10,
     "metadata": {},
     "output_type": "execute_result"
    }
   ],
   "source": [
    "survey.data.groupby(\"fieldid_survey\")[\"fieldid\"].nunique()"
   ]
  },
  {
   "cell_type": "code",
   "execution_count": 11,
   "id": "2fc972c3",
   "metadata": {},
   "outputs": [
    {
     "data": {
      "text/plain": [
       "fieldid\n",
       "194669    1\n",
       "194683    1\n",
       "194702    1\n",
       "194703    1\n",
       "194725    2\n",
       "         ..\n",
       "325936    1\n",
       "325937    1\n",
       "325938    1\n",
       "325943    1\n",
       "325944    1\n",
       "Length: 18724, dtype: int64"
      ]
     },
     "execution_count": 11,
     "metadata": {},
     "output_type": "execute_result"
    }
   ],
   "source": [
    "survey.get_fieldstat(\"size\") "
   ]
  },
  {
   "cell_type": "markdown",
   "id": "7c0fc675",
   "metadata": {},
   "source": [
    "### Matching coordinate with fields\n",
    "\n",
    "This is an important feature that enable us to know whic field contains which target"
   ]
  },
  {
   "cell_type": "code",
   "execution_count": 12,
   "id": "3be595aa",
   "metadata": {},
   "outputs": [
    {
     "data": {
      "text/html": [
       "<div>\n",
       "<style scoped>\n",
       "    .dataframe tbody tr th:only-of-type {\n",
       "        vertical-align: middle;\n",
       "    }\n",
       "\n",
       "    .dataframe tbody tr th {\n",
       "        vertical-align: top;\n",
       "    }\n",
       "\n",
       "    .dataframe thead th {\n",
       "        text-align: right;\n",
       "    }\n",
       "</style>\n",
       "<table border=\"1\" class=\"dataframe\">\n",
       "  <thead>\n",
       "    <tr style=\"text-align: right;\">\n",
       "      <th></th>\n",
       "      <th>fieldid</th>\n",
       "    </tr>\n",
       "    <tr>\n",
       "      <th>index_radec</th>\n",
       "      <th></th>\n",
       "    </tr>\n",
       "  </thead>\n",
       "  <tbody>\n",
       "    <tr>\n",
       "      <th>0</th>\n",
       "      <td>14425</td>\n",
       "    </tr>\n",
       "  </tbody>\n",
       "</table>\n",
       "</div>"
      ],
      "text/plain": [
       "             fieldid\n",
       "index_radec         \n",
       "0              14425"
      ]
     },
     "execution_count": 12,
     "metadata": {},
     "output_type": "execute_result"
    }
   ],
   "source": [
    "survey.radec_to_fieldid([26, 70])"
   ]
  },
  {
   "cell_type": "code",
   "execution_count": 13,
   "id": "d121d311",
   "metadata": {
    "scrolled": false
   },
   "outputs": [
    {
     "data": {
      "text/html": [
       "<div>\n",
       "<style scoped>\n",
       "    .dataframe tbody tr th:only-of-type {\n",
       "        vertical-align: middle;\n",
       "    }\n",
       "\n",
       "    .dataframe tbody tr th {\n",
       "        vertical-align: top;\n",
       "    }\n",
       "\n",
       "    .dataframe thead th {\n",
       "        text-align: right;\n",
       "    }\n",
       "</style>\n",
       "<table border=\"1\" class=\"dataframe\">\n",
       "  <thead>\n",
       "    <tr style=\"text-align: right;\">\n",
       "      <th></th>\n",
       "      <th>fieldid</th>\n",
       "    </tr>\n",
       "    <tr>\n",
       "      <th>index_radec</th>\n",
       "      <th></th>\n",
       "    </tr>\n",
       "  </thead>\n",
       "  <tbody>\n",
       "    <tr>\n",
       "      <th>0</th>\n",
       "      <td>266365</td>\n",
       "    </tr>\n",
       "    <tr>\n",
       "      <th>1</th>\n",
       "      <td>93470</td>\n",
       "    </tr>\n",
       "    <tr>\n",
       "      <th>2</th>\n",
       "      <td>46642</td>\n",
       "    </tr>\n",
       "    <tr>\n",
       "      <th>3</th>\n",
       "      <td>339675</td>\n",
       "    </tr>\n",
       "    <tr>\n",
       "      <th>4</th>\n",
       "      <td>206306</td>\n",
       "    </tr>\n",
       "    <tr>\n",
       "      <th>...</th>\n",
       "      <td>...</td>\n",
       "    </tr>\n",
       "    <tr>\n",
       "      <th>195</th>\n",
       "      <td>329987</td>\n",
       "    </tr>\n",
       "    <tr>\n",
       "      <th>196</th>\n",
       "      <td>282906</td>\n",
       "    </tr>\n",
       "    <tr>\n",
       "      <th>197</th>\n",
       "      <td>67</td>\n",
       "    </tr>\n",
       "    <tr>\n",
       "      <th>198</th>\n",
       "      <td>167187</td>\n",
       "    </tr>\n",
       "    <tr>\n",
       "      <th>199</th>\n",
       "      <td>56958</td>\n",
       "    </tr>\n",
       "  </tbody>\n",
       "</table>\n",
       "<p>200 rows × 1 columns</p>\n",
       "</div>"
      ],
      "text/plain": [
       "             fieldid\n",
       "index_radec         \n",
       "0             266365\n",
       "1              93470\n",
       "2              46642\n",
       "3             339675\n",
       "4             206306\n",
       "...              ...\n",
       "195           329987\n",
       "196           282906\n",
       "197               67\n",
       "198           167187\n",
       "199            56958\n",
       "\n",
       "[200 rows x 1 columns]"
      ]
     },
     "execution_count": 13,
     "metadata": {},
     "output_type": "execute_result"
    }
   ],
   "source": [
    "import numpy as np\n",
    "# remark that, doing that this way, it won't be homogeneous.\n",
    "ra_flat = np.random.uniform(0, 190, 200)\n",
    "dec_flat = np.random.uniform(-30, 90, 200)\n",
    "survey.radec_to_fieldid([ra_flat,dec_flat])"
   ]
  },
  {
   "cell_type": "markdown",
   "id": "b9ea1b1a",
   "metadata": {},
   "source": [
    "***\n",
    "\n",
    "## GridSurvey: *field*, *footprint* and *pointings*\n",
    "\n",
    "Some surveys are observing **pre-defined fields**. That is the case for ZTF, that follows grid systems, or deep-fields surveys such as DES ou LSST.\n",
    "\n",
    "A specific version of `Survey`, `GridSurvey` has been implemented for a more realistic user experience and to avoid **`healpix` pixel approximation** ; GridSurvey is also slight faster. To associate coordinates to fields `GridSurvey` is based on `shapely` and `geopandas` only (see skysurvey.survey.PolygonSurvey for details) ; no need for healpy\n",
    "\n",
    "### Deep-Field Survey\n",
    "\n",
    "let's use as an example two deep field surveys:\n",
    "\n",
    "- \"cosmos\": 'ra':+150.11916667, 'dec':+2.20583333,\n",
    "- \"xmm-lss\": 'ra':+35.7083333 ,'dec':-4.749999\n",
    "\n",
    "and let's use a 8 degree size, square camera footprint"
   ]
  },
  {
   "cell_type": "code",
   "execution_count": 14,
   "id": "2cf9a142",
   "metadata": {},
   "outputs": [
    {
     "data": {
      "image/svg+xml": [
       "<svg xmlns=\"http://www.w3.org/2000/svg\" xmlns:xlink=\"http://www.w3.org/1999/xlink\" width=\"100.0\" height=\"100.0\" viewBox=\"-4.32 -4.32 8.64 8.64\" preserveAspectRatio=\"xMinYMin meet\"><g transform=\"matrix(1,0,0,-1,0,0.0)\"><path fill-rule=\"evenodd\" fill=\"#66cc99\" stroke=\"#555555\" stroke-width=\"0.1728\" opacity=\"0.6\" d=\"M -4.0,-4.0 L 4.0,-4.0 L 4.0,4.0 L -4.0,4.0 L -4.0,-4.0 z\" /></g></svg>"
      ],
      "text/plain": [
       "<POLYGON ((-4 -4, 4 -4, 4 4, -4 4, -4 -4))>"
      ]
     },
     "execution_count": 14,
     "metadata": {},
     "output_type": "execute_result"
    }
   ],
   "source": [
    "import numpy as np\n",
    "from shapely import geometry\n",
    "fields = {\"cosmos\": {'ra':+150.11916667, 'dec':+2.20583333},\n",
    "          \"xmm-lss\": {'ra':+35.7083333 ,'dec':-4.749999}\n",
    "         }\n",
    "\n",
    "vertices_camera = np.asarray([[-0.5,-0.5],[0.5,-0.5], [0.5,0.5],[-0.5,0.5]]) * 8 \n",
    "footprint = geometry.Polygon(vertices_camera)\n",
    "footprint"
   ]
  },
  {
   "cell_type": "markdown",
   "id": "c15f1951",
   "metadata": {},
   "source": [
    "### Define observation\n",
    "\n",
    "Your observation should now not contain RA, Dec (this will be ignored), but a fieldid. \n",
    "Hence, using the very same example as above, but say we observed 10x more the cosmos field"
   ]
  },
  {
   "cell_type": "code",
   "execution_count": 15,
   "id": "e84c4f5e",
   "metadata": {},
   "outputs": [
    {
     "data": {
      "text/html": [
       "<div>\n",
       "<style scoped>\n",
       "    .dataframe tbody tr th:only-of-type {\n",
       "        vertical-align: middle;\n",
       "    }\n",
       "\n",
       "    .dataframe tbody tr th {\n",
       "        vertical-align: top;\n",
       "    }\n",
       "\n",
       "    .dataframe thead th {\n",
       "        text-align: right;\n",
       "    }\n",
       "</style>\n",
       "<table border=\"1\" class=\"dataframe\">\n",
       "  <thead>\n",
       "    <tr style=\"text-align: right;\">\n",
       "      <th></th>\n",
       "      <th>fieldid</th>\n",
       "      <th>gain</th>\n",
       "      <th>zp</th>\n",
       "      <th>skynoise</th>\n",
       "      <th>mjd</th>\n",
       "      <th>band</th>\n",
       "    </tr>\n",
       "  </thead>\n",
       "  <tbody>\n",
       "    <tr>\n",
       "      <th>0</th>\n",
       "      <td>cosmos</td>\n",
       "      <td>1</td>\n",
       "      <td>30</td>\n",
       "      <td>162.607595</td>\n",
       "      <td>58926.711832</td>\n",
       "      <td>desg</td>\n",
       "    </tr>\n",
       "    <tr>\n",
       "      <th>1</th>\n",
       "      <td>xmm-lss</td>\n",
       "      <td>1</td>\n",
       "      <td>30</td>\n",
       "      <td>183.266174</td>\n",
       "      <td>58939.027724</td>\n",
       "      <td>desr</td>\n",
       "    </tr>\n",
       "    <tr>\n",
       "      <th>2</th>\n",
       "      <td>xmm-lss</td>\n",
       "      <td>1</td>\n",
       "      <td>30</td>\n",
       "      <td>147.466105</td>\n",
       "      <td>58928.758544</td>\n",
       "      <td>desr</td>\n",
       "    </tr>\n",
       "    <tr>\n",
       "      <th>3</th>\n",
       "      <td>cosmos</td>\n",
       "      <td>1</td>\n",
       "      <td>30</td>\n",
       "      <td>165.267523</td>\n",
       "      <td>58926.307188</td>\n",
       "      <td>desg</td>\n",
       "    </tr>\n",
       "    <tr>\n",
       "      <th>4</th>\n",
       "      <td>xmm-lss</td>\n",
       "      <td>1</td>\n",
       "      <td>30</td>\n",
       "      <td>142.666700</td>\n",
       "      <td>58916.393582</td>\n",
       "      <td>desr</td>\n",
       "    </tr>\n",
       "  </tbody>\n",
       "</table>\n",
       "</div>"
      ],
      "text/plain": [
       "   fieldid  gain  zp    skynoise           mjd  band\n",
       "0   cosmos     1  30  162.607595  58926.711832  desg\n",
       "1  xmm-lss     1  30  183.266174  58939.027724  desr\n",
       "2  xmm-lss     1  30  147.466105  58928.758544  desr\n",
       "3   cosmos     1  30  165.267523  58926.307188  desg\n",
       "4  xmm-lss     1  30  142.666700  58916.393582  desr"
      ]
     },
     "execution_count": 15,
     "metadata": {},
     "output_type": "execute_result"
    }
   ],
   "source": [
    "import pandas\n",
    "from skysurvey.tools import utils\n",
    "from astropy.time import Time\n",
    "\n",
    "size = 10_000\n",
    "data = {}\n",
    "# Data\n",
    "data[\"fieldid\"] = np.random.choice([\"cosmos\",\"xmm-lss\"], \n",
    "                                   size=size, \n",
    "                                   p=np.asarray([10, 1])/11) # 10x 'cosmos' for 1x 'xmm-lss'\n",
    "data[\"gain\"] = 1\n",
    "data[\"zp\"] = 30\n",
    "data[\"skynoise\"] = np.random.normal(loc=150, scale=20,\n",
    "                                    size=size)\n",
    "data[\"mjd\"] = np.random.uniform(Time(\"2020-03-01\").mjd, Time(\"2020-04-01\").mjd, \n",
    "                                size=size)\n",
    "data[\"band\"] = np.random.choice([\"desg\",\"desr\",\"desi\"], \n",
    "                                size=size)\n",
    "\n",
    "data = pandas.DataFrame.from_dict(data)\n",
    "data.head()"
   ]
  },
  {
   "cell_type": "code",
   "execution_count": 16,
   "id": "391de355",
   "metadata": {},
   "outputs": [],
   "source": [
    "from skysurvey.survey import GridSurvey\n",
    "gsurvey = GridSurvey.from_pointings(data, fields, footprint)"
   ]
  },
  {
   "cell_type": "code",
   "execution_count": 17,
   "id": "a6f631a4",
   "metadata": {},
   "outputs": [
    {
     "data": {
      "image/png": "[encoded data removed]",
      "text/plain": [
       "<Figure size 504x360 with 1 Axes>"
      ]
     },
     "metadata": {
      "needs_background": "light"
     },
     "output_type": "display_data"
    }
   ],
   "source": [
    "fig = gsurvey.show(vmin=0, vmax=10, cmap=\"coolwarm\")"
   ]
  },
  {
   "cell_type": "markdown",
   "id": "1a24107a",
   "metadata": {},
   "source": [
    "***\n",
    "## Predefined Survey\n",
    "\n",
    "- `ZTF` (GridSurvey)\n",
    "- `DES` (GridSurvey) | deep-fields"
   ]
  },
  {
   "cell_type": "code",
   "execution_count": null,
   "id": "98668677",
   "metadata": {},
   "outputs": [],
   "source": []
  }
 ],
 "metadata": {
  "kernelspec": {
   "display_name": "Python 3 (ipykernel)",
   "language": "python",
   "name": "python3"
  },
  "language_info": {
   "codemirror_mode": {
    "name": "ipython",
    "version": 3
   },
   "file_extension": ".py",
   "mimetype": "text/x-python",
   "name": "python",
   "nbconvert_exporter": "python",
   "pygments_lexer": "ipython3",
   "version": "3.9.16"
  }
 },
 "nbformat": 4,
 "nbformat_minor": 5
}
