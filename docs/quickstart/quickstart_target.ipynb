{
 "cells": [
  {
   "cell_type": "markdown",
   "id": "b60ec1f5",
   "metadata": {},
   "source": [
    "# Transients\n",
    "\n",
    "\n",
    "The `Transient` object has a **rate**, a **template** and a **model**.\n",
    "\n",
    "- The **rate** informs on how many target we expect to have in nature for a redshift range. *This is a float*\n",
    "\n",
    "- The **model** specifies how the template parameters are drawn. *This is a dict.*\n",
    "\n",
    "- The **template** provides the spectro-photometric time serie of the transient given input parameters. *This is based on sncosmo.Model*\n",
    "\n",
    "The first two enables you to draw a sample of transients as given by nature. This last one is needed only if you want to get the transient lightcurves (hence, notably, when you create a dataset). \n",
    "\n",
    "Two sets of transient have already been implemented:\n",
    "- SNeIa (based on salt2 or salt3)\n",
    "- A generic Transient associated to any single sncosmo.TimeSerieSource (see the list [here](https://sncosmo.readthedocs.io/en/stable/source-list.html))"
   ]
  },
  {
   "cell_type": "markdown",
   "id": "a1ab19d6",
   "metadata": {},
   "source": [
    "## SNeIa and \"v19-2010al (a type IIb)\" Examples"
   ]
  },
  {
   "cell_type": "code",
   "execution_count": 1,
   "id": "3dcbaca7",
   "metadata": {},
   "outputs": [],
   "source": [
    "import skysurvey"
   ]
  },
  {
   "cell_type": "markdown",
   "id": "87b6af94",
   "metadata": {},
   "source": [
    "Let's start with Type Ia Supernovae.\n",
    "\n",
    "The **SNeIa** Transient is already defined and ready to use. "
   ]
  },
  {
   "cell_type": "code",
   "execution_count": 2,
   "id": "5e6aa32a",
   "metadata": {},
   "outputs": [],
   "source": [
    "snia = skysurvey.SNeIa()"
   ]
  },
  {
   "cell_type": "markdown",
   "id": "587100e9",
   "metadata": {},
   "source": [
    "### template, rate and model\n",
    "\n",
    "**The following methods and attribute are commun to all transients ; SNeIa here is just an example**"
   ]
  },
  {
   "cell_type": "markdown",
   "id": "1887ac38",
   "metadata": {},
   "source": [
    "#### template\n",
    "the `template` (skysurvey object) is stored here"
   ]
  },
  {
   "cell_type": "code",
   "execution_count": 3,
   "id": "1c413f80",
   "metadata": {},
   "outputs": [
    {
     "data": {
      "text/plain": [
       "<skysurvey.template.Template at 0x11033d0a0>"
      ]
     },
     "execution_count": 3,
     "metadata": {},
     "output_type": "execute_result"
    }
   ],
   "source": [
    "snia.template"
   ]
  },
  {
   "cell_type": "markdown",
   "id": "6c16c1db",
   "metadata": {},
   "source": [
    "and it's main attibute is the sncosmo_model up on which the template methods are built"
   ]
  },
  {
   "cell_type": "code",
   "execution_count": 4,
   "id": "81afc6ef",
   "metadata": {},
   "outputs": [
    {
     "data": {
      "text/plain": [
       "<sncosmo.models.Model at 0x11033d5e0>"
      ]
     },
     "execution_count": 4,
     "metadata": {},
     "output_type": "execute_result"
    }
   ],
   "source": [
    "snia.template.sncosmo_model"
   ]
  },
  {
   "cell_type": "code",
   "execution_count": 5,
   "id": "9f0ede72",
   "metadata": {},
   "outputs": [
    {
     "data": {
      "text/plain": [
       "<SALT2Source 'salt2' version='T23' at 0x1077a6070>"
      ]
     },
     "execution_count": 5,
     "metadata": {},
     "output_type": "execute_result"
    }
   ],
   "source": [
    "snia.template.source # short cut to snia.template.sncosmo_model.source"
   ]
  },
  {
   "cell_type": "markdown",
   "id": "6fb5bc99",
   "metadata": {},
   "source": [
    "the template parameters are here (shortcut to `snia.template.parameters`)"
   ]
  },
  {
   "cell_type": "code",
   "execution_count": 6,
   "id": "fcbf1987",
   "metadata": {},
   "outputs": [
    {
     "data": {
      "text/plain": [
       "['z', 't0', 'x0', 'x1', 'c', 'mwebv', 'mwr_v']"
      ]
     },
     "execution_count": 6,
     "metadata": {},
     "output_type": "execute_result"
    }
   ],
   "source": [
    "snia.template_parameters # short"
   ]
  },
  {
   "cell_type": "markdown",
   "id": "26165cd7",
   "metadata": {},
   "source": [
    "#### rate\n",
    "\n",
    "Transient have the volume_rate parameter that provide the number of transient expected per year and per $Gpc^3$"
   ]
  },
  {
   "cell_type": "code",
   "execution_count": 7,
   "id": "9b71cbfe",
   "metadata": {},
   "outputs": [
    {
     "data": {
      "text/plain": [
       "23500.0"
      ]
     },
     "execution_count": 7,
     "metadata": {},
     "output_type": "execute_result"
    }
   ],
   "source": [
    "snia.rate # in target/Gpc^3/year"
   ]
  },
  {
   "cell_type": "markdown",
   "id": "afb0367a",
   "metadata": {},
   "source": [
    "To get the number of expected transient in a redshift shell (full sky volume)  use `get_rate(z)`."
   ]
  },
  {
   "cell_type": "code",
   "execution_count": 8,
   "id": "fea5fa38",
   "metadata": {},
   "outputs": [
    {
     "data": {
      "text/plain": [
       "7967.328115462927"
      ]
     },
     "execution_count": 8,
     "metadata": {},
     "output_type": "execute_result"
    }
   ],
   "source": [
    "snia.get_rate(0.1) # Nature should provide ~8000 SNeIa (full sky) up to z=0.1"
   ]
  },
  {
   "cell_type": "markdown",
   "id": "d5c772b0",
   "metadata": {},
   "source": [
    "#### model\n",
    "\n",
    "The model is the core of what defines a transient. It provides how the template parameters are generated"
   ]
  },
  {
   "cell_type": "code",
   "execution_count": 9,
   "id": "bed137ac",
   "metadata": {},
   "outputs": [
    {
     "name": "stdout",
     "output_type": "stream",
     "text": [
      "{'c': {'func': <function SNeIaColor.intrinsic_and_dust at 0x29e1b8670>},\n",
      " 'magabs': {'func': <function SNeIaMagnitude.tripp1998 at 0x29f0175e0>,\n",
      "            'kwargs': {'c': '@c', 'mabs': -19.3, 'sigmaint': 0.1, 'x1': '@x1'}},\n",
      " 'magobs': {'func': 'magabs_to_magobs',\n",
      "            'kwargs': {'magabs': '@magabs', 'z': '@z'}},\n",
      " 'radec': {'as': ['ra', 'dec'],\n",
      "           'func': <function random_radec at 0x29e1948b0>,\n",
      "           'kwargs': {}},\n",
      " 'redshift': {'as': 'z', 'kwargs': {'zmax': 0.2}},\n",
      " 't0': {'func': <built-in method uniform of numpy.random.mtrand.RandomState object at 0x112774640>,\n",
      "        'kwargs': {'high': 56200, 'low': 56000}},\n",
      " 'x0': {'func': 'magobs_to_amplitude',\n",
      "        'kwargs': {'magobs': '@magobs', 'param_name': 'x0'}},\n",
      " 'x1': {'func': <function SNeIaStretch.nicolas2021 at 0x29f017550>}}\n"
     ]
    }
   ],
   "source": [
    "from pprint import pprint\n",
    "pprint(snia.model.model)"
   ]
  },
  {
   "cell_type": "markdown",
   "id": "2e0ed2b3",
   "metadata": {},
   "source": [
    "See details below"
   ]
  },
  {
   "cell_type": "markdown",
   "id": "0f478941",
   "metadata": {},
   "source": [
    "## Draw a sample (as given by nature)"
   ]
  },
  {
   "cell_type": "markdown",
   "id": "c7a2aab8",
   "metadata": {},
   "source": [
    "You can then draw as many SNeIa as you want. The parameters will be drawn following the transient's model (see below).\n",
    "These are SNeIa as given by nature following this model."
   ]
  },
  {
   "cell_type": "code",
   "execution_count": 10,
   "id": "3a2f61f7",
   "metadata": {},
   "outputs": [
    {
     "name": "stdout",
     "output_type": "stream",
     "text": [
      "CPU times: user 116 ms, sys: 17.6 ms, total: 133 ms\n",
      "Wall time: 139 ms\n"
     ]
    }
   ],
   "source": [
    "%%time\n",
    "data = snia.draw(size=10_000)"
   ]
  },
  {
   "cell_type": "code",
   "execution_count": 11,
   "id": "5be5715b",
   "metadata": {},
   "outputs": [
    {
     "data": {
      "text/html": [
       "<div>\n",
       "<style scoped>\n",
       "    .dataframe tbody tr th:only-of-type {\n",
       "        vertical-align: middle;\n",
       "    }\n",
       "\n",
       "    .dataframe tbody tr th {\n",
       "        vertical-align: top;\n",
       "    }\n",
       "\n",
       "    .dataframe thead th {\n",
       "        text-align: right;\n",
       "    }\n",
       "</style>\n",
       "<table border=\"1\" class=\"dataframe\">\n",
       "  <thead>\n",
       "    <tr style=\"text-align: right;\">\n",
       "      <th></th>\n",
       "      <th>z</th>\n",
       "      <th>x1</th>\n",
       "      <th>c</th>\n",
       "      <th>t0</th>\n",
       "      <th>magabs</th>\n",
       "      <th>magobs</th>\n",
       "      <th>x0</th>\n",
       "      <th>ra</th>\n",
       "      <th>dec</th>\n",
       "      <th>template</th>\n",
       "    </tr>\n",
       "  </thead>\n",
       "  <tbody>\n",
       "    <tr>\n",
       "      <th>0</th>\n",
       "      <td>0.1875</td>\n",
       "      <td>1.500000e-01</td>\n",
       "      <td>-0.01</td>\n",
       "      <td>56072.234375</td>\n",
       "      <td>-19.268026</td>\n",
       "      <td>20.602594</td>\n",
       "      <td>0.000091</td>\n",
       "      <td>92.515419</td>\n",
       "      <td>-18.609682</td>\n",
       "      <td>salt2</td>\n",
       "    </tr>\n",
       "    <tr>\n",
       "      <th>1</th>\n",
       "      <td>0.1735</td>\n",
       "      <td>6.000000e-01</td>\n",
       "      <td>-0.05</td>\n",
       "      <td>56090.179688</td>\n",
       "      <td>-19.633657</td>\n",
       "      <td>20.050468</td>\n",
       "      <td>0.000152</td>\n",
       "      <td>197.517960</td>\n",
       "      <td>-13.268378</td>\n",
       "      <td>salt2</td>\n",
       "    </tr>\n",
       "    <tr>\n",
       "      <th>2</th>\n",
       "      <td>0.1345</td>\n",
       "      <td>-1.600000e+00</td>\n",
       "      <td>-0.04</td>\n",
       "      <td>56120.859375</td>\n",
       "      <td>-19.238140</td>\n",
       "      <td>19.841116</td>\n",
       "      <td>0.000184</td>\n",
       "      <td>281.586731</td>\n",
       "      <td>-7.159208</td>\n",
       "      <td>salt2</td>\n",
       "    </tr>\n",
       "    <tr>\n",
       "      <th>3</th>\n",
       "      <td>0.0525</td>\n",
       "      <td>1.150000e+00</td>\n",
       "      <td>0.01</td>\n",
       "      <td>56045.167969</td>\n",
       "      <td>-19.504412</td>\n",
       "      <td>17.412903</td>\n",
       "      <td>0.001720</td>\n",
       "      <td>274.563751</td>\n",
       "      <td>28.356302</td>\n",
       "      <td>salt2</td>\n",
       "    </tr>\n",
       "    <tr>\n",
       "      <th>4</th>\n",
       "      <td>0.1075</td>\n",
       "      <td>4.500000e-01</td>\n",
       "      <td>-0.03</td>\n",
       "      <td>56005.148438</td>\n",
       "      <td>-19.531279</td>\n",
       "      <td>19.023716</td>\n",
       "      <td>0.000390</td>\n",
       "      <td>291.228760</td>\n",
       "      <td>19.725929</td>\n",
       "      <td>salt2</td>\n",
       "    </tr>\n",
       "    <tr>\n",
       "      <th>...</th>\n",
       "      <td>...</td>\n",
       "      <td>...</td>\n",
       "      <td>...</td>\n",
       "      <td>...</td>\n",
       "      <td>...</td>\n",
       "      <td>...</td>\n",
       "      <td>...</td>\n",
       "      <td>...</td>\n",
       "      <td>...</td>\n",
       "      <td>...</td>\n",
       "    </tr>\n",
       "    <tr>\n",
       "      <th>9995</th>\n",
       "      <td>0.1465</td>\n",
       "      <td>-1.421085e-14</td>\n",
       "      <td>-0.02</td>\n",
       "      <td>56003.605469</td>\n",
       "      <td>-19.301497</td>\n",
       "      <td>19.979633</td>\n",
       "      <td>0.000162</td>\n",
       "      <td>266.749969</td>\n",
       "      <td>-2.584787</td>\n",
       "      <td>salt2</td>\n",
       "    </tr>\n",
       "    <tr>\n",
       "      <th>9996</th>\n",
       "      <td>0.0645</td>\n",
       "      <td>-1.150000e+00</td>\n",
       "      <td>0.02</td>\n",
       "      <td>56071.453125</td>\n",
       "      <td>-18.979286</td>\n",
       "      <td>18.403355</td>\n",
       "      <td>0.000691</td>\n",
       "      <td>295.088531</td>\n",
       "      <td>-15.435308</td>\n",
       "      <td>salt2</td>\n",
       "    </tr>\n",
       "    <tr>\n",
       "      <th>9997</th>\n",
       "      <td>0.1685</td>\n",
       "      <td>-1.500000e-01</td>\n",
       "      <td>0.07</td>\n",
       "      <td>56126.812500</td>\n",
       "      <td>-19.054039</td>\n",
       "      <td>20.560081</td>\n",
       "      <td>0.000095</td>\n",
       "      <td>179.171265</td>\n",
       "      <td>-54.524261</td>\n",
       "      <td>salt2</td>\n",
       "    </tr>\n",
       "    <tr>\n",
       "      <th>9998</th>\n",
       "      <td>0.1945</td>\n",
       "      <td>1.000000e-01</td>\n",
       "      <td>-0.08</td>\n",
       "      <td>56048.589844</td>\n",
       "      <td>-19.554113</td>\n",
       "      <td>20.404961</td>\n",
       "      <td>0.000109</td>\n",
       "      <td>155.495758</td>\n",
       "      <td>12.959204</td>\n",
       "      <td>salt2</td>\n",
       "    </tr>\n",
       "    <tr>\n",
       "      <th>9999</th>\n",
       "      <td>0.1875</td>\n",
       "      <td>-5.000000e-01</td>\n",
       "      <td>0.22</td>\n",
       "      <td>56072.816406</td>\n",
       "      <td>-18.566608</td>\n",
       "      <td>21.304010</td>\n",
       "      <td>0.000048</td>\n",
       "      <td>257.669525</td>\n",
       "      <td>9.419182</td>\n",
       "      <td>salt2</td>\n",
       "    </tr>\n",
       "  </tbody>\n",
       "</table>\n",
       "<p>10000 rows × 10 columns</p>\n",
       "</div>"
      ],
      "text/plain": [
       "           z            x1     c            t0     magabs     magobs  \\\n",
       "0     0.1875  1.500000e-01 -0.01  56072.234375 -19.268026  20.602594   \n",
       "1     0.1735  6.000000e-01 -0.05  56090.179688 -19.633657  20.050468   \n",
       "2     0.1345 -1.600000e+00 -0.04  56120.859375 -19.238140  19.841116   \n",
       "3     0.0525  1.150000e+00  0.01  56045.167969 -19.504412  17.412903   \n",
       "4     0.1075  4.500000e-01 -0.03  56005.148438 -19.531279  19.023716   \n",
       "...      ...           ...   ...           ...        ...        ...   \n",
       "9995  0.1465 -1.421085e-14 -0.02  56003.605469 -19.301497  19.979633   \n",
       "9996  0.0645 -1.150000e+00  0.02  56071.453125 -18.979286  18.403355   \n",
       "9997  0.1685 -1.500000e-01  0.07  56126.812500 -19.054039  20.560081   \n",
       "9998  0.1945  1.000000e-01 -0.08  56048.589844 -19.554113  20.404961   \n",
       "9999  0.1875 -5.000000e-01  0.22  56072.816406 -18.566608  21.304010   \n",
       "\n",
       "            x0          ra        dec template  \n",
       "0     0.000091   92.515419 -18.609682    salt2  \n",
       "1     0.000152  197.517960 -13.268378    salt2  \n",
       "2     0.000184  281.586731  -7.159208    salt2  \n",
       "3     0.001720  274.563751  28.356302    salt2  \n",
       "4     0.000390  291.228760  19.725929    salt2  \n",
       "...        ...         ...        ...      ...  \n",
       "9995  0.000162  266.749969  -2.584787    salt2  \n",
       "9996  0.000691  295.088531 -15.435308    salt2  \n",
       "9997  0.000095  179.171265 -54.524261    salt2  \n",
       "9998  0.000109  155.495758  12.959204    salt2  \n",
       "9999  0.000048  257.669525   9.419182    salt2  \n",
       "\n",
       "[10000 rows x 10 columns]"
      ]
     },
     "execution_count": 11,
     "metadata": {},
     "output_type": "execute_result"
    }
   ],
   "source": [
    "data # another copy is stored as snia.data"
   ]
  },
  {
   "cell_type": "code",
   "execution_count": 12,
   "id": "310ea5b2",
   "metadata": {},
   "outputs": [
    {
     "data": {
      "text/html": [
       "<div>\n",
       "<style scoped>\n",
       "    .dataframe tbody tr th:only-of-type {\n",
       "        vertical-align: middle;\n",
       "    }\n",
       "\n",
       "    .dataframe tbody tr th {\n",
       "        vertical-align: top;\n",
       "    }\n",
       "\n",
       "    .dataframe thead th {\n",
       "        text-align: right;\n",
       "    }\n",
       "</style>\n",
       "<table border=\"1\" class=\"dataframe\">\n",
       "  <thead>\n",
       "    <tr style=\"text-align: right;\">\n",
       "      <th></th>\n",
       "      <th>z</th>\n",
       "      <th>x1</th>\n",
       "      <th>c</th>\n",
       "      <th>t0</th>\n",
       "      <th>magabs</th>\n",
       "      <th>magobs</th>\n",
       "      <th>x0</th>\n",
       "      <th>ra</th>\n",
       "      <th>dec</th>\n",
       "      <th>template</th>\n",
       "    </tr>\n",
       "  </thead>\n",
       "  <tbody>\n",
       "    <tr>\n",
       "      <th>0</th>\n",
       "      <td>0.1875</td>\n",
       "      <td>1.500000e-01</td>\n",
       "      <td>-0.01</td>\n",
       "      <td>56072.234375</td>\n",
       "      <td>-19.268026</td>\n",
       "      <td>20.602594</td>\n",
       "      <td>0.000091</td>\n",
       "      <td>92.515419</td>\n",
       "      <td>-18.609682</td>\n",
       "      <td>salt2</td>\n",
       "    </tr>\n",
       "    <tr>\n",
       "      <th>1</th>\n",
       "      <td>0.1735</td>\n",
       "      <td>6.000000e-01</td>\n",
       "      <td>-0.05</td>\n",
       "      <td>56090.179688</td>\n",
       "      <td>-19.633657</td>\n",
       "      <td>20.050468</td>\n",
       "      <td>0.000152</td>\n",
       "      <td>197.517960</td>\n",
       "      <td>-13.268378</td>\n",
       "      <td>salt2</td>\n",
       "    </tr>\n",
       "    <tr>\n",
       "      <th>2</th>\n",
       "      <td>0.1345</td>\n",
       "      <td>-1.600000e+00</td>\n",
       "      <td>-0.04</td>\n",
       "      <td>56120.859375</td>\n",
       "      <td>-19.238140</td>\n",
       "      <td>19.841116</td>\n",
       "      <td>0.000184</td>\n",
       "      <td>281.586731</td>\n",
       "      <td>-7.159208</td>\n",
       "      <td>salt2</td>\n",
       "    </tr>\n",
       "    <tr>\n",
       "      <th>3</th>\n",
       "      <td>0.0525</td>\n",
       "      <td>1.150000e+00</td>\n",
       "      <td>0.01</td>\n",
       "      <td>56045.167969</td>\n",
       "      <td>-19.504412</td>\n",
       "      <td>17.412903</td>\n",
       "      <td>0.001720</td>\n",
       "      <td>274.563751</td>\n",
       "      <td>28.356302</td>\n",
       "      <td>salt2</td>\n",
       "    </tr>\n",
       "    <tr>\n",
       "      <th>4</th>\n",
       "      <td>0.1075</td>\n",
       "      <td>4.500000e-01</td>\n",
       "      <td>-0.03</td>\n",
       "      <td>56005.148438</td>\n",
       "      <td>-19.531279</td>\n",
       "      <td>19.023716</td>\n",
       "      <td>0.000390</td>\n",
       "      <td>291.228760</td>\n",
       "      <td>19.725929</td>\n",
       "      <td>salt2</td>\n",
       "    </tr>\n",
       "    <tr>\n",
       "      <th>...</th>\n",
       "      <td>...</td>\n",
       "      <td>...</td>\n",
       "      <td>...</td>\n",
       "      <td>...</td>\n",
       "      <td>...</td>\n",
       "      <td>...</td>\n",
       "      <td>...</td>\n",
       "      <td>...</td>\n",
       "      <td>...</td>\n",
       "      <td>...</td>\n",
       "    </tr>\n",
       "    <tr>\n",
       "      <th>9995</th>\n",
       "      <td>0.1465</td>\n",
       "      <td>-1.421085e-14</td>\n",
       "      <td>-0.02</td>\n",
       "      <td>56003.605469</td>\n",
       "      <td>-19.301497</td>\n",
       "      <td>19.979633</td>\n",
       "      <td>0.000162</td>\n",
       "      <td>266.749969</td>\n",
       "      <td>-2.584787</td>\n",
       "      <td>salt2</td>\n",
       "    </tr>\n",
       "    <tr>\n",
       "      <th>9996</th>\n",
       "      <td>0.0645</td>\n",
       "      <td>-1.150000e+00</td>\n",
       "      <td>0.02</td>\n",
       "      <td>56071.453125</td>\n",
       "      <td>-18.979286</td>\n",
       "      <td>18.403355</td>\n",
       "      <td>0.000691</td>\n",
       "      <td>295.088531</td>\n",
       "      <td>-15.435308</td>\n",
       "      <td>salt2</td>\n",
       "    </tr>\n",
       "    <tr>\n",
       "      <th>9997</th>\n",
       "      <td>0.1685</td>\n",
       "      <td>-1.500000e-01</td>\n",
       "      <td>0.07</td>\n",
       "      <td>56126.812500</td>\n",
       "      <td>-19.054039</td>\n",
       "      <td>20.560081</td>\n",
       "      <td>0.000095</td>\n",
       "      <td>179.171265</td>\n",
       "      <td>-54.524261</td>\n",
       "      <td>salt2</td>\n",
       "    </tr>\n",
       "    <tr>\n",
       "      <th>9998</th>\n",
       "      <td>0.1945</td>\n",
       "      <td>1.000000e-01</td>\n",
       "      <td>-0.08</td>\n",
       "      <td>56048.589844</td>\n",
       "      <td>-19.554113</td>\n",
       "      <td>20.404961</td>\n",
       "      <td>0.000109</td>\n",
       "      <td>155.495758</td>\n",
       "      <td>12.959204</td>\n",
       "      <td>salt2</td>\n",
       "    </tr>\n",
       "    <tr>\n",
       "      <th>9999</th>\n",
       "      <td>0.1875</td>\n",
       "      <td>-5.000000e-01</td>\n",
       "      <td>0.22</td>\n",
       "      <td>56072.816406</td>\n",
       "      <td>-18.566608</td>\n",
       "      <td>21.304010</td>\n",
       "      <td>0.000048</td>\n",
       "      <td>257.669525</td>\n",
       "      <td>9.419182</td>\n",
       "      <td>salt2</td>\n",
       "    </tr>\n",
       "  </tbody>\n",
       "</table>\n",
       "<p>10000 rows × 10 columns</p>\n",
       "</div>"
      ],
      "text/plain": [
       "           z            x1     c            t0     magabs     magobs  \\\n",
       "0     0.1875  1.500000e-01 -0.01  56072.234375 -19.268026  20.602594   \n",
       "1     0.1735  6.000000e-01 -0.05  56090.179688 -19.633657  20.050468   \n",
       "2     0.1345 -1.600000e+00 -0.04  56120.859375 -19.238140  19.841116   \n",
       "3     0.0525  1.150000e+00  0.01  56045.167969 -19.504412  17.412903   \n",
       "4     0.1075  4.500000e-01 -0.03  56005.148438 -19.531279  19.023716   \n",
       "...      ...           ...   ...           ...        ...        ...   \n",
       "9995  0.1465 -1.421085e-14 -0.02  56003.605469 -19.301497  19.979633   \n",
       "9996  0.0645 -1.150000e+00  0.02  56071.453125 -18.979286  18.403355   \n",
       "9997  0.1685 -1.500000e-01  0.07  56126.812500 -19.054039  20.560081   \n",
       "9998  0.1945  1.000000e-01 -0.08  56048.589844 -19.554113  20.404961   \n",
       "9999  0.1875 -5.000000e-01  0.22  56072.816406 -18.566608  21.304010   \n",
       "\n",
       "            x0          ra        dec template  \n",
       "0     0.000091   92.515419 -18.609682    salt2  \n",
       "1     0.000152  197.517960 -13.268378    salt2  \n",
       "2     0.000184  281.586731  -7.159208    salt2  \n",
       "3     0.001720  274.563751  28.356302    salt2  \n",
       "4     0.000390  291.228760  19.725929    salt2  \n",
       "...        ...         ...        ...      ...  \n",
       "9995  0.000162  266.749969  -2.584787    salt2  \n",
       "9996  0.000691  295.088531 -15.435308    salt2  \n",
       "9997  0.000095  179.171265 -54.524261    salt2  \n",
       "9998  0.000109  155.495758  12.959204    salt2  \n",
       "9999  0.000048  257.669525   9.419182    salt2  \n",
       "\n",
       "[10000 rows x 10 columns]"
      ]
     },
     "execution_count": 12,
     "metadata": {},
     "output_type": "execute_result"
    }
   ],
   "source": [
    "snia.data"
   ]
  },
  {
   "cell_type": "markdown",
   "id": "e50717af",
   "metadata": {},
   "source": [
    "**Tip**: You can  directly use the ``from_draw()`` classmethod to load a transient instance already drawn."
   ]
  },
  {
   "cell_type": "code",
   "execution_count": 17,
   "id": "01717a75",
   "metadata": {},
   "outputs": [],
   "source": [
    "snia = skysurvey.SNeIa.from_draw(10000)"
   ]
  },
  {
   "cell_type": "markdown",
   "id": "16eb1478",
   "metadata": {},
   "source": [
    "### TimeSerieTransient (TSTransient)\n",
    "\n",
    "**nothing is easier than loading any sncosmo TimeSerieSouce as a skysurvey Transient**\n",
    "\n",
    "Simply provide the source name in the `from_sncosmo_source()` method or directly in the `from_draw()`"
   ]
  },
  {
   "cell_type": "code",
   "execution_count": 21,
   "id": "d8b225b4",
   "metadata": {},
   "outputs": [],
   "source": [
    "snIIn = skysurvey.TSTransient.from_draw(size=4_000, source=\"v19-2010al\")"
   ]
  },
  {
   "cell_type": "code",
   "execution_count": 22,
   "id": "97a3e9cb",
   "metadata": {},
   "outputs": [
    {
     "data": {
      "text/html": [
       "<div>\n",
       "<style scoped>\n",
       "    .dataframe tbody tr th:only-of-type {\n",
       "        vertical-align: middle;\n",
       "    }\n",
       "\n",
       "    .dataframe tbody tr th {\n",
       "        vertical-align: top;\n",
       "    }\n",
       "\n",
       "    .dataframe thead th {\n",
       "        text-align: right;\n",
       "    }\n",
       "</style>\n",
       "<table border=\"1\" class=\"dataframe\">\n",
       "  <thead>\n",
       "    <tr style=\"text-align: right;\">\n",
       "      <th></th>\n",
       "      <th>z</th>\n",
       "      <th>t0</th>\n",
       "      <th>magabs</th>\n",
       "      <th>magobs</th>\n",
       "      <th>amplitude</th>\n",
       "      <th>ra</th>\n",
       "      <th>dec</th>\n",
       "      <th>template</th>\n",
       "    </tr>\n",
       "  </thead>\n",
       "  <tbody>\n",
       "    <tr>\n",
       "      <th>0</th>\n",
       "      <td>0.0355</td>\n",
       "      <td>56012.058594</td>\n",
       "      <td>-16.428717</td>\n",
       "      <td>19.612431</td>\n",
       "      <td>4.895860e-16</td>\n",
       "      <td>322.432922</td>\n",
       "      <td>80.907799</td>\n",
       "      <td>v19-2010al</td>\n",
       "    </tr>\n",
       "    <tr>\n",
       "      <th>1</th>\n",
       "      <td>0.0435</td>\n",
       "      <td>56030.718750</td>\n",
       "      <td>-17.641235</td>\n",
       "      <td>18.853775</td>\n",
       "      <td>9.846714e-16</td>\n",
       "      <td>232.847534</td>\n",
       "      <td>41.982239</td>\n",
       "      <td>v19-2010al</td>\n",
       "    </tr>\n",
       "    <tr>\n",
       "      <th>2</th>\n",
       "      <td>0.0465</td>\n",
       "      <td>56054.390625</td>\n",
       "      <td>-17.939707</td>\n",
       "      <td>18.704796</td>\n",
       "      <td>1.129492e-15</td>\n",
       "      <td>111.107796</td>\n",
       "      <td>52.031773</td>\n",
       "      <td>v19-2010al</td>\n",
       "    </tr>\n",
       "    <tr>\n",
       "      <th>3</th>\n",
       "      <td>0.0415</td>\n",
       "      <td>56197.652344</td>\n",
       "      <td>-17.983982</td>\n",
       "      <td>18.405697</td>\n",
       "      <td>1.487725e-15</td>\n",
       "      <td>220.282745</td>\n",
       "      <td>42.826267</td>\n",
       "      <td>v19-2010al</td>\n",
       "    </tr>\n",
       "    <tr>\n",
       "      <th>4</th>\n",
       "      <td>0.0355</td>\n",
       "      <td>56177.250000</td>\n",
       "      <td>-18.428286</td>\n",
       "      <td>17.612862</td>\n",
       "      <td>3.087856e-15</td>\n",
       "      <td>281.257721</td>\n",
       "      <td>59.345467</td>\n",
       "      <td>v19-2010al</td>\n",
       "    </tr>\n",
       "    <tr>\n",
       "      <th>...</th>\n",
       "      <td>...</td>\n",
       "      <td>...</td>\n",
       "      <td>...</td>\n",
       "      <td>...</td>\n",
       "      <td>...</td>\n",
       "      <td>...</td>\n",
       "      <td>...</td>\n",
       "      <td>...</td>\n",
       "    </tr>\n",
       "    <tr>\n",
       "      <th>3995</th>\n",
       "      <td>0.0305</td>\n",
       "      <td>56030.300781</td>\n",
       "      <td>-17.969431</td>\n",
       "      <td>17.734150</td>\n",
       "      <td>2.761479e-15</td>\n",
       "      <td>94.419128</td>\n",
       "      <td>27.301165</td>\n",
       "      <td>v19-2010al</td>\n",
       "    </tr>\n",
       "    <tr>\n",
       "      <th>3996</th>\n",
       "      <td>0.0355</td>\n",
       "      <td>56143.792969</td>\n",
       "      <td>-17.758659</td>\n",
       "      <td>18.282488</td>\n",
       "      <td>1.666503e-15</td>\n",
       "      <td>99.915894</td>\n",
       "      <td>29.687843</td>\n",
       "      <td>v19-2010al</td>\n",
       "    </tr>\n",
       "    <tr>\n",
       "      <th>3997</th>\n",
       "      <td>0.0315</td>\n",
       "      <td>56002.023438</td>\n",
       "      <td>-17.641779</td>\n",
       "      <td>18.133444</td>\n",
       "      <td>1.911717e-15</td>\n",
       "      <td>3.331716</td>\n",
       "      <td>-41.621284</td>\n",
       "      <td>v19-2010al</td>\n",
       "    </tr>\n",
       "    <tr>\n",
       "      <th>3998</th>\n",
       "      <td>0.0315</td>\n",
       "      <td>56023.152344</td>\n",
       "      <td>-19.774693</td>\n",
       "      <td>16.000530</td>\n",
       "      <td>1.363293e-14</td>\n",
       "      <td>59.934765</td>\n",
       "      <td>-8.836870</td>\n",
       "      <td>v19-2010al</td>\n",
       "    </tr>\n",
       "    <tr>\n",
       "      <th>3999</th>\n",
       "      <td>0.0465</td>\n",
       "      <td>56099.867188</td>\n",
       "      <td>-17.867636</td>\n",
       "      <td>18.776865</td>\n",
       "      <td>1.056952e-15</td>\n",
       "      <td>148.240341</td>\n",
       "      <td>33.067303</td>\n",
       "      <td>v19-2010al</td>\n",
       "    </tr>\n",
       "  </tbody>\n",
       "</table>\n",
       "<p>4000 rows × 8 columns</p>\n",
       "</div>"
      ],
      "text/plain": [
       "           z            t0     magabs     magobs     amplitude          ra  \\\n",
       "0     0.0355  56012.058594 -16.428717  19.612431  4.895860e-16  322.432922   \n",
       "1     0.0435  56030.718750 -17.641235  18.853775  9.846714e-16  232.847534   \n",
       "2     0.0465  56054.390625 -17.939707  18.704796  1.129492e-15  111.107796   \n",
       "3     0.0415  56197.652344 -17.983982  18.405697  1.487725e-15  220.282745   \n",
       "4     0.0355  56177.250000 -18.428286  17.612862  3.087856e-15  281.257721   \n",
       "...      ...           ...        ...        ...           ...         ...   \n",
       "3995  0.0305  56030.300781 -17.969431  17.734150  2.761479e-15   94.419128   \n",
       "3996  0.0355  56143.792969 -17.758659  18.282488  1.666503e-15   99.915894   \n",
       "3997  0.0315  56002.023438 -17.641779  18.133444  1.911717e-15    3.331716   \n",
       "3998  0.0315  56023.152344 -19.774693  16.000530  1.363293e-14   59.934765   \n",
       "3999  0.0465  56099.867188 -17.867636  18.776865  1.056952e-15  148.240341   \n",
       "\n",
       "            dec    template  \n",
       "0     80.907799  v19-2010al  \n",
       "1     41.982239  v19-2010al  \n",
       "2     52.031773  v19-2010al  \n",
       "3     42.826267  v19-2010al  \n",
       "4     59.345467  v19-2010al  \n",
       "...         ...         ...  \n",
       "3995  27.301165  v19-2010al  \n",
       "3996  29.687843  v19-2010al  \n",
       "3997 -41.621284  v19-2010al  \n",
       "3998  -8.836870  v19-2010al  \n",
       "3999  33.067303  v19-2010al  \n",
       "\n",
       "[4000 rows x 8 columns]"
      ]
     },
     "execution_count": 22,
     "metadata": {},
     "output_type": "execute_result"
    }
   ],
   "source": [
    "snIIn.data"
   ]
  },
  {
   "cell_type": "code",
   "execution_count": 23,
   "id": "c46f4622",
   "metadata": {},
   "outputs": [
    {
     "data": {
      "image/png": "[encoded data removed]",
      "text/plain": [
       "<Figure size 504x288 with 1 Axes>"
      ]
     },
     "metadata": {
      "needs_background": "light"
     },
     "output_type": "display_data"
    }
   ],
   "source": [
    "_ = snIIn.show_lightcurve([\"ztfg\",\"ztfr\"], index=50)"
   ]
  },
  {
   "cell_type": "markdown",
   "id": "990f3af4",
   "metadata": {},
   "source": [
    "***"
   ]
  },
  {
   "cell_type": "markdown",
   "id": "cafde1b8",
   "metadata": {},
   "source": [
    "## Model\n",
    "\n",
    "The ``data`` (list of transients) are generated following the **model**, stored as ``self.model``."
   ]
  },
  {
   "cell_type": "markdown",
   "id": "14df0350",
   "metadata": {},
   "source": [
    "**tip**: the transient model is display (better formated) when you print the object"
   ]
  },
  {
   "cell_type": "code",
   "execution_count": 24,
   "id": "15bc8ed1",
   "metadata": {},
   "outputs": [
    {
     "data": {
      "text/plain": [
       "{'redshift': {'kwargs': {'zmax': 0.2}, 'as': 'z'},\n",
       " 'x1': {'func': <function SNeIaStretch.nicolas2021 at 0x29f017550>},\n",
       " 'c': {'func': <function SNeIaColor.intrinsic_and_dust at 0x29e1b8670>},\n",
       " 't0': {'func': <built-in method uniform of numpy.random.mtrand.RandomState object at 0x112774640>,\n",
       "        'kwargs': {'low': 56000, 'high': 56200}},\n",
       " 'magabs': {'func': <function SNeIaMagnitude.tripp1998 at 0x29f0175e0>,\n",
       "            'kwargs': {'x1': '@x1', 'c': '@c', 'mabs': -19.3, 'sigmaint': 0.1}},\n",
       " 'magobs': {'func': 'magabs_to_magobs',\n",
       "            'kwargs': {'z': '@z', 'magabs': '@magabs'}},\n",
       " 'x0': {'func': 'magobs_to_amplitude',\n",
       "        'kwargs': {'magobs': '@magobs', 'param_name': 'x0'}},\n",
       " 'radec': {'func': <function random_radec at 0x29e1948b0>,\n",
       "           'kwargs': {},\n",
       "           'as': ['ra', 'dec']}}"
      ]
     },
     "execution_count": 24,
     "metadata": {},
     "output_type": "execute_result"
    }
   ],
   "source": [
    "snia"
   ]
  },
  {
   "cell_type": "markdown",
   "id": "8a098043",
   "metadata": {},
   "source": [
    "#### How does **model** works\n",
    "\n",
    "It is based on the [modeldag](https://github.com/MickaelRigault/modeldag) package.\n",
    "\n",
    "To generate ``data``, the code reads **model** line-by-line and follows the instructions it contains. \n",
    "\n",
    "In this SNeIa example, **model** contains 8 entries. So the generated ``data`` will contains at least 8 columns (see the *as* option).\n",
    "\n",
    "A **model** entry accepts 3 keywords:\n",
    "  1. *func*: (name of) the function used to draw the sample, e.g. np.random.uniform ;\n",
    "  2. *kwargs*: options that enter the function as kwargs. Use ``a='@key'`` to use the result of a previously drawn 'key' as `'a'` input entering func ;\n",
    "  3. *as*: (list of) name(s) of the column on the resulting ``data`` ;\n",
    "\n",
    "#### \"@\" in \"kwargs\" to form a \"DAG\"\n",
    "The *@* trick in kwargs  enables you to generate self-consistent parameters.\n",
    "\n",
    "For instance, the absolute magnitude of a SNeIa depends on its stretch and color (following the ``alpha*x_1 - beta*c `` Tripp's relation). Hence, once the ``x_1``and ``c`` (independent) variables have been drawn, the SNeIa absolute magnitude (``magabs``) can be obtained using as input the already drawn ``x_1`` and ``c`` parameters. Same goes for the observed magnitude, it only dependents on the absolute magnitude ``magabs`` and the redshift ``z``. \n",
    "\n",
    "The (potentially complex) connections between the variables enabled by using *@key* (e.g. ``@c``) corresponds to the creation a [Directed acyclic graph](https://en.wikipedia.org/wiki/Directed_acyclic_graph).\n",
    "You can complexify as you which your **model** creating as many variables and intermediate variables as you want.\n",
    "\n",
    "#### the *func* option, where to define the function\n",
    "\n",
    "The *func* option is the function that will be used to generate the dataset. In principle, it should accept ``size`` as parameters and return N=size values except if a \"@\" is used in input (for its size is alreadyu defined by the initial called key)\n",
    "\n",
    "In your **model**, the *func* option can be a function or a string. \n",
    " - a function will be used as such\n",
    " - a string will be converted in function, it typically means you input a method of the class ; though more advanced tools exist, see \"Build a new Model\" documentation."
   ]
  },
  {
   "cell_type": "markdown",
   "id": "7e3ff6c3",
   "metadata": {},
   "source": [
    "## Plotting\n",
    "\n",
    "Show a given lightcurve in any band known by sncosmo, for instance here that on the snia index 9 ``snia.data.loc[9]``\n",
    "\n",
    "### Lightcurve "
   ]
  },
  {
   "cell_type": "code",
   "execution_count": 25,
   "id": "834948cf",
   "metadata": {
    "scrolled": false
   },
   "outputs": [
    {
     "data": {
      "image/png": "[encoded data removed]",
      "text/plain": [
       "<Figure size 504x288 with 1 Axes>"
      ]
     },
     "metadata": {
      "needs_background": "light"
     },
     "output_type": "display_data"
    }
   ],
   "source": [
    "band = [\"ztfr\",\"ztfg\"]\n",
    "fig = snia.show_lightcurve(band, index=9, in_mag=True)"
   ]
  },
  {
   "cell_type": "markdown",
   "id": "c075f180",
   "metadata": {},
   "source": [
    "### Parameters (visualize the relation created by self.model)\n",
    "\n",
    "You can also show the scatter between any parameters. The parameter correlations are handled by your `model`"
   ]
  },
  {
   "cell_type": "code",
   "execution_count": 26,
   "id": "3c8c7e65",
   "metadata": {
    "scrolled": false
   },
   "outputs": [
    {
     "data": {
      "image/png": "[encoded data removed]",
      "text/plain": [
       "<Figure size 504x288 with 2 Axes>"
      ]
     },
     "metadata": {
      "needs_background": "light"
     },
     "output_type": "display_data"
    }
   ],
   "source": [
    "fig = snia.show_scatter(\"z\", \"magobs\", ckey=\"x1\") \n",
    "ax = fig.axes[0]\n",
    "\n",
    "_ = ax.set_ylabel(\"observed magnitude\")\n",
    "_ = ax.set_xlabel(\"redshift\")"
   ]
  },
  {
   "cell_type": "code",
   "execution_count": 27,
   "id": "b3e0cfbb",
   "metadata": {},
   "outputs": [
    {
     "data": {
      "image/png": "[encoded data removed]",
      "text/plain": [
       "<Figure size 648x216 with 4 Axes>"
      ]
     },
     "metadata": {
      "needs_background": "light"
     },
     "output_type": "display_data"
    }
   ],
   "source": [
    "import matplotlib.pyplot as plt\n",
    "fig = plt.figure(figsize=[9,3])\n",
    "ax1 = fig.add_subplot(121)\n",
    "ax2 = fig.add_subplot(122)\n",
    "\n",
    "_ = snia.show_scatter(\"x1\", \"magabs\", ckey=\"c\", ax=ax1) \n",
    "_ = snia.show_scatter(\"c\", \"magabs\", ckey=\"x1\", ax=ax2) \n",
    "\n",
    "_ = ax1.set_ylabel(\"absolute magnitude\")\n",
    "_ = ax1.set_xlabel(fr\"Stretch ($x_1$)\")\n",
    "_ = ax2.set_xlabel(fr\"Color ($c$)\")"
   ]
  },
  {
   "cell_type": "markdown",
   "id": "b0f911a5",
   "metadata": {},
   "source": [
    "## Getter\n",
    "\n",
    "You have several pre-defined methods to access parameters or the template directly"
   ]
  },
  {
   "cell_type": "markdown",
   "id": "98b61027",
   "metadata": {},
   "source": [
    "### template parameters\n",
    "\n",
    "the `get_template_parameters` method enbales you to get the subpart of ``data`` that corresponds to actual template (sncosmo.Model) parameters"
   ]
  },
  {
   "cell_type": "code",
   "execution_count": 28,
   "id": "207b8213",
   "metadata": {},
   "outputs": [
    {
     "data": {
      "text/html": [
       "<div>\n",
       "<style scoped>\n",
       "    .dataframe tbody tr th:only-of-type {\n",
       "        vertical-align: middle;\n",
       "    }\n",
       "\n",
       "    .dataframe tbody tr th {\n",
       "        vertical-align: top;\n",
       "    }\n",
       "\n",
       "    .dataframe thead th {\n",
       "        text-align: right;\n",
       "    }\n",
       "</style>\n",
       "<table border=\"1\" class=\"dataframe\">\n",
       "  <thead>\n",
       "    <tr style=\"text-align: right;\">\n",
       "      <th></th>\n",
       "      <th>z</th>\n",
       "      <th>x1</th>\n",
       "      <th>c</th>\n",
       "      <th>t0</th>\n",
       "      <th>x0</th>\n",
       "    </tr>\n",
       "  </thead>\n",
       "  <tbody>\n",
       "    <tr>\n",
       "      <th>0</th>\n",
       "      <td>0.1795</td>\n",
       "      <td>-1.421085e-14</td>\n",
       "      <td>6.000000e-02</td>\n",
       "      <td>56019.402344</td>\n",
       "      <td>0.000083</td>\n",
       "    </tr>\n",
       "    <tr>\n",
       "      <th>1</th>\n",
       "      <td>0.0275</td>\n",
       "      <td>2.500000e-01</td>\n",
       "      <td>1.300000e-01</td>\n",
       "      <td>56039.234375</td>\n",
       "      <td>0.003857</td>\n",
       "    </tr>\n",
       "    <tr>\n",
       "      <th>2</th>\n",
       "      <td>0.1325</td>\n",
       "      <td>1.500000e-01</td>\n",
       "      <td>-3.000000e-02</td>\n",
       "      <td>56091.226562</td>\n",
       "      <td>0.000251</td>\n",
       "    </tr>\n",
       "    <tr>\n",
       "      <th>3</th>\n",
       "      <td>0.0985</td>\n",
       "      <td>7.500000e-01</td>\n",
       "      <td>5.000000e-02</td>\n",
       "      <td>56159.093750</td>\n",
       "      <td>0.000323</td>\n",
       "    </tr>\n",
       "    <tr>\n",
       "      <th>4</th>\n",
       "      <td>0.1645</td>\n",
       "      <td>-1.421085e-14</td>\n",
       "      <td>-3.000000e-02</td>\n",
       "      <td>56089.609375</td>\n",
       "      <td>0.000164</td>\n",
       "    </tr>\n",
       "    <tr>\n",
       "      <th>...</th>\n",
       "      <td>...</td>\n",
       "      <td>...</td>\n",
       "      <td>...</td>\n",
       "      <td>...</td>\n",
       "      <td>...</td>\n",
       "    </tr>\n",
       "    <tr>\n",
       "      <th>9995</th>\n",
       "      <td>0.1605</td>\n",
       "      <td>1.500000e+00</td>\n",
       "      <td>-7.000000e-02</td>\n",
       "      <td>56078.507812</td>\n",
       "      <td>0.000165</td>\n",
       "    </tr>\n",
       "    <tr>\n",
       "      <th>9996</th>\n",
       "      <td>0.1005</td>\n",
       "      <td>-5.000000e-01</td>\n",
       "      <td>-1.000000e-02</td>\n",
       "      <td>56021.921875</td>\n",
       "      <td>0.000344</td>\n",
       "    </tr>\n",
       "    <tr>\n",
       "      <th>9997</th>\n",
       "      <td>0.1865</td>\n",
       "      <td>-4.000000e-01</td>\n",
       "      <td>-7.000000e-02</td>\n",
       "      <td>56155.128906</td>\n",
       "      <td>0.000115</td>\n",
       "    </tr>\n",
       "    <tr>\n",
       "      <th>9998</th>\n",
       "      <td>0.1515</td>\n",
       "      <td>-1.250000e+00</td>\n",
       "      <td>2.775558e-16</td>\n",
       "      <td>56037.839844</td>\n",
       "      <td>0.000103</td>\n",
       "    </tr>\n",
       "    <tr>\n",
       "      <th>9999</th>\n",
       "      <td>0.1365</td>\n",
       "      <td>1.000000e+00</td>\n",
       "      <td>4.000000e-02</td>\n",
       "      <td>56053.109375</td>\n",
       "      <td>0.000197</td>\n",
       "    </tr>\n",
       "  </tbody>\n",
       "</table>\n",
       "<p>10000 rows × 5 columns</p>\n",
       "</div>"
      ],
      "text/plain": [
       "           z            x1             c            t0        x0\n",
       "0     0.1795 -1.421085e-14  6.000000e-02  56019.402344  0.000083\n",
       "1     0.0275  2.500000e-01  1.300000e-01  56039.234375  0.003857\n",
       "2     0.1325  1.500000e-01 -3.000000e-02  56091.226562  0.000251\n",
       "3     0.0985  7.500000e-01  5.000000e-02  56159.093750  0.000323\n",
       "4     0.1645 -1.421085e-14 -3.000000e-02  56089.609375  0.000164\n",
       "...      ...           ...           ...           ...       ...\n",
       "9995  0.1605  1.500000e+00 -7.000000e-02  56078.507812  0.000165\n",
       "9996  0.1005 -5.000000e-01 -1.000000e-02  56021.921875  0.000344\n",
       "9997  0.1865 -4.000000e-01 -7.000000e-02  56155.128906  0.000115\n",
       "9998  0.1515 -1.250000e+00  2.775558e-16  56037.839844  0.000103\n",
       "9999  0.1365  1.000000e+00  4.000000e-02  56053.109375  0.000197\n",
       "\n",
       "[10000 rows x 5 columns]"
      ]
     },
     "execution_count": 28,
     "metadata": {},
     "output_type": "execute_result"
    }
   ],
   "source": [
    "snia.get_template_parameters()"
   ]
  },
  {
   "cell_type": "markdown",
   "id": "ffdf15a5",
   "metadata": {},
   "source": [
    "You can also request to only have the template parameters for a given target\n",
    "(similar to as `snia.get_template_parameters().loc[index]`)"
   ]
  },
  {
   "cell_type": "code",
   "execution_count": 29,
   "id": "8b5cfd83",
   "metadata": {},
   "outputs": [
    {
     "data": {
      "text/plain": [
       "z         0.179500\n",
       "x1        0.050000\n",
       "c         0.260000\n",
       "t0    56146.316406\n",
       "x0        0.000049\n",
       "Name: 9, dtype: float32"
      ]
     },
     "execution_count": 29,
     "metadata": {},
     "output_type": "execute_result"
    }
   ],
   "source": [
    "snia.get_template_parameters(index=9)"
   ]
  },
  {
   "cell_type": "markdown",
   "id": "7bf650d3",
   "metadata": {},
   "source": [
    "### Template (sncosmo.Model)\n",
    "\n",
    "You can get a template (sncosmo.Model) either with default values"
   ]
  },
  {
   "cell_type": "code",
   "execution_count": 30,
   "id": "767e77a1",
   "metadata": {},
   "outputs": [],
   "source": [
    "template = snia.get_template(index=None) # default"
   ]
  },
  {
   "cell_type": "code",
   "execution_count": 31,
   "id": "17ad1367",
   "metadata": {},
   "outputs": [
    {
     "data": {
      "text/plain": [
       "<skysurvey.template.Template at 0x2a1bc4bb0>"
      ]
     },
     "execution_count": 31,
     "metadata": {},
     "output_type": "execute_result"
    }
   ],
   "source": [
    "template"
   ]
  },
  {
   "cell_type": "code",
   "execution_count": 32,
   "id": "0d41898a",
   "metadata": {},
   "outputs": [
    {
     "data": {
      "text/plain": [
       "array([0. , 0. , 1. , 0. , 0. , 0. , 3.1])"
      ]
     },
     "execution_count": 32,
     "metadata": {},
     "output_type": "execute_result"
    }
   ],
   "source": [
    "template.sncosmo_model.parameters"
   ]
  },
  {
   "cell_type": "markdown",
   "id": "5199c94e",
   "metadata": {},
   "source": [
    "or with parameters set to match those of a target"
   ]
  },
  {
   "cell_type": "code",
   "execution_count": 33,
   "id": "5f39042f",
   "metadata": {},
   "outputs": [
    {
     "data": {
      "text/plain": [
       "array([1.79499999e-01, 5.61463164e+04, 4.89364647e-05, 5.00000007e-02,\n",
       "       2.59999990e-01, 0.00000000e+00, 3.10000000e+00])"
      ]
     },
     "execution_count": 33,
     "metadata": {},
     "output_type": "execute_result"
    }
   ],
   "source": [
    "template_target9 = snia.get_template(index=9) \n",
    "template_target9.sncosmo_model.parameters"
   ]
  },
  {
   "cell_type": "markdown",
   "id": "3fecddde",
   "metadata": {},
   "source": [
    "or affecting parameters"
   ]
  },
  {
   "cell_type": "code",
   "execution_count": 34,
   "id": "5b42ec47",
   "metadata": {},
   "outputs": [
    {
     "data": {
      "text/plain": [
       "array([ 1.79499999e-01,  5.61463164e+04,  4.89364647e-05, -5.00000000e+00,\n",
       "        2.59999990e-01,  0.00000000e+00,  3.10000000e+00])"
      ]
     },
     "execution_count": 34,
     "metadata": {},
     "output_type": "execute_result"
    }
   ],
   "source": [
    "template_target9 = snia.get_template(index=9, x1=-5) \n",
    "template_target9.sncosmo_model.parameters"
   ]
  },
  {
   "cell_type": "code",
   "execution_count": null,
   "id": "dc0db63b",
   "metadata": {},
   "outputs": [],
   "source": []
  }
 ],
 "metadata": {
  "kernelspec": {
   "display_name": "Python 3 (ipykernel)",
   "language": "python",
   "name": "python3"
  },
  "language_info": {
   "codemirror_mode": {
    "name": "ipython",
    "version": 3
   },
   "file_extension": ".py",
   "mimetype": "text/x-python",
   "name": "python",
   "nbconvert_exporter": "python",
   "pygments_lexer": "ipython3",
   "version": "3.9.16"
  }
 },
 "nbformat": 4,
 "nbformat_minor": 5
}
