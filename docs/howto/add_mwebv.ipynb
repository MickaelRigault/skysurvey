{
 "cells": [
  {
   "cell_type": "markdown",
   "id": "c84f9cdf-5c0c-4214-b0eb-3e28dbc031d4",
   "metadata": {},
   "source": [
    "# Add Milky-Way extinction\n",
    "\n",
    "Usually, one wants to draw target including the Milky Way dust extinction effect. \n",
    "Such effect can be accounted for using the `effect` option in the `from_draw()` classmethod or `Target` or using the `add_effect()` method.\n",
    "\n",
    "### quick look at ``skysurvey.Effect``\n",
    "This is based on `skysurvey.effect.Effect` object that contains 2 parts: \n",
    "  1. a `.model`  attribute that updates the Target's model (DAG)\n",
    "  2. a sncosmo effect (sncosmo.PropagationEffect), with its variable name and the applied frame.\n",
    "\n",
    "\n",
    "### Get the Milky Way extinction ``Effect``\n",
    "\n",
    "The Milky way effect has been pre-defined (`skysurvey.effect.mw_extinction`) and works as follows:\n",
    "  1. `mwebv` is derived from the Planck dust map (`dustmaps.planck`) given the object's RA, Dec\n",
    "    so:\n",
    "\n",
    "    `model = {\"mwebv\": {\"func\": skysurvey.effect.milkyway.get_mwebv, \"kwargs\":{\"ra\":\"@ra\", \"dec\":\"@dec\"}}}`\n",
    "\n",
    "  2. The sncosmo effect is `sncosmo.CCM89Dust()` applied in the obsframe.\n",
    "\n",
    "\n",
    "\n",
    "***\n",
    "## Eample\n",
    "\n",
    "### Draw SNe Ia without dust extinction (default)"
   ]
  },
  {
   "cell_type": "code",
   "execution_count": 20,
   "id": "0669f7d6-cb8f-4aba-85f8-b87e4ece4fa5",
   "metadata": {},
   "outputs": [],
   "source": [
    "import skysurvey"
   ]
  },
  {
   "cell_type": "code",
   "execution_count": 12,
   "id": "4aa65c35-8076-4f2a-832b-49f6a8d29130",
   "metadata": {},
   "outputs": [
    {
     "data": {
      "text/html": [
       "<div>\n",
       "<style scoped>\n",
       "    .dataframe tbody tr th:only-of-type {\n",
       "        vertical-align: middle;\n",
       "    }\n",
       "\n",
       "    .dataframe tbody tr th {\n",
       "        vertical-align: top;\n",
       "    }\n",
       "\n",
       "    .dataframe thead th {\n",
       "        text-align: right;\n",
       "    }\n",
       "</style>\n",
       "<table border=\"1\" class=\"dataframe\">\n",
       "  <thead>\n",
       "    <tr style=\"text-align: right;\">\n",
       "      <th></th>\n",
       "      <th>z</th>\n",
       "      <th>x1</th>\n",
       "      <th>c</th>\n",
       "      <th>t0</th>\n",
       "      <th>ra</th>\n",
       "      <th>dec</th>\n",
       "      <th>magabs</th>\n",
       "      <th>magobs</th>\n",
       "      <th>x0</th>\n",
       "      <th>template</th>\n",
       "    </tr>\n",
       "  </thead>\n",
       "  <tbody>\n",
       "    <tr>\n",
       "      <th>0</th>\n",
       "      <td>0.18675</td>\n",
       "      <td>-2.195</td>\n",
       "      <td>0.123220</td>\n",
       "      <td>56144.281250</td>\n",
       "      <td>190.206924</td>\n",
       "      <td>12.827494</td>\n",
       "      <td>-18.770164</td>\n",
       "      <td>21.090797</td>\n",
       "      <td>0.000058</td>\n",
       "      <td>salt2</td>\n",
       "    </tr>\n",
       "    <tr>\n",
       "      <th>1</th>\n",
       "      <td>0.16555</td>\n",
       "      <td>0.295</td>\n",
       "      <td>0.004345</td>\n",
       "      <td>56033.667969</td>\n",
       "      <td>206.297791</td>\n",
       "      <td>65.779793</td>\n",
       "      <td>-19.359217</td>\n",
       "      <td>20.212688</td>\n",
       "      <td>0.000130</td>\n",
       "      <td>salt2</td>\n",
       "    </tr>\n",
       "  </tbody>\n",
       "</table>\n",
       "</div>"
      ],
      "text/plain": [
       "         z     x1         c            t0          ra        dec     magabs  \\\n",
       "0  0.18675 -2.195  0.123220  56144.281250  190.206924  12.827494 -18.770164   \n",
       "1  0.16555  0.295  0.004345  56033.667969  206.297791  65.779793 -19.359217   \n",
       "\n",
       "      magobs        x0 template  \n",
       "0  21.090797  0.000058    salt2  \n",
       "1  20.212688  0.000130    salt2  "
      ]
     },
     "execution_count": 12,
     "metadata": {},
     "output_type": "execute_result"
    }
   ],
   "source": [
    "snia_no_dust = skysurvey.SNeIa.from_draw(1_000)\n",
    "snia_no_dust.data.head(2)"
   ]
  },
  {
   "cell_type": "markdown",
   "id": "864f32a5-1363-4dd3-921b-6dbfd3e307fb",
   "metadata": {},
   "source": [
    "The object has no mwebv entry, and it's template has no effect, so no mwebv in the parameter name"
   ]
  },
  {
   "cell_type": "code",
   "execution_count": 17,
   "id": "2166d7e6-8c1d-499a-95ac-6d4c404c9eca",
   "metadata": {},
   "outputs": [],
   "source": [
    "sncosmo_model = snia_no_dust.get_template(as_model=True)"
   ]
  },
  {
   "cell_type": "code",
   "execution_count": 18,
   "id": "cc931d61-7e92-494f-bfa0-36d9737c3c02",
   "metadata": {},
   "outputs": [
    {
     "data": {
      "text/plain": [
       "[]"
      ]
     },
     "execution_count": 18,
     "metadata": {},
     "output_type": "execute_result"
    }
   ],
   "source": [
    "sncosmo_model.effects"
   ]
  },
  {
   "cell_type": "code",
   "execution_count": 19,
   "id": "caf1de0a-af43-4870-8aab-528a0049530f",
   "metadata": {},
   "outputs": [
    {
     "data": {
      "text/plain": [
       "['z', 't0', 'x0', 'x1', 'c']"
      ]
     },
     "execution_count": 19,
     "metadata": {},
     "output_type": "execute_result"
    }
   ],
   "source": [
    "snia_no_dust.template_parameters"
   ]
  },
  {
   "cell_type": "markdown",
   "id": "75c592aa-d17a-4b8c-b91d-9fbb4e14b91e",
   "metadata": {},
   "source": [
    "### Draw SNe Ia accounting for Milky Way dust extinction"
   ]
  },
  {
   "cell_type": "code",
   "execution_count": 21,
   "id": "c37f103f-7556-497c-abfc-053de1215c23",
   "metadata": {},
   "outputs": [],
   "source": [
    "from skysurvey import effects"
   ]
  },
  {
   "cell_type": "code",
   "execution_count": 22,
   "id": "e6a95d3c-bfb7-4db9-abfc-8fffc905ea1d",
   "metadata": {},
   "outputs": [],
   "source": [
    "snia = skysurvey.SNeIa.from_draw(1000, effect=effects.mw_extinction)"
   ]
  },
  {
   "cell_type": "code",
   "execution_count": 23,
   "id": "78289e46-4a0a-4d6f-80a2-50a3ba257d24",
   "metadata": {},
   "outputs": [
    {
     "data": {
      "text/html": [
       "<div>\n",
       "<style scoped>\n",
       "    .dataframe tbody tr th:only-of-type {\n",
       "        vertical-align: middle;\n",
       "    }\n",
       "\n",
       "    .dataframe tbody tr th {\n",
       "        vertical-align: top;\n",
       "    }\n",
       "\n",
       "    .dataframe thead th {\n",
       "        text-align: right;\n",
       "    }\n",
       "</style>\n",
       "<table border=\"1\" class=\"dataframe\">\n",
       "  <thead>\n",
       "    <tr style=\"text-align: right;\">\n",
       "      <th></th>\n",
       "      <th>z</th>\n",
       "      <th>x1</th>\n",
       "      <th>c</th>\n",
       "      <th>t0</th>\n",
       "      <th>ra</th>\n",
       "      <th>dec</th>\n",
       "      <th>magabs</th>\n",
       "      <th>mwebv</th>\n",
       "      <th>magobs</th>\n",
       "      <th>x0</th>\n",
       "      <th>template</th>\n",
       "    </tr>\n",
       "  </thead>\n",
       "  <tbody>\n",
       "    <tr>\n",
       "      <th>0</th>\n",
       "      <td>0.17305</td>\n",
       "      <td>0.175</td>\n",
       "      <td>0.438834</td>\n",
       "      <td>56049.628906</td>\n",
       "      <td>351.960083</td>\n",
       "      <td>-39.255589</td>\n",
       "      <td>-17.934202</td>\n",
       "      <td>0.026303</td>\n",
       "      <td>21.743700</td>\n",
       "      <td>0.000032</td>\n",
       "      <td>salt2</td>\n",
       "    </tr>\n",
       "    <tr>\n",
       "      <th>1</th>\n",
       "      <td>0.01625</td>\n",
       "      <td>-0.735</td>\n",
       "      <td>0.045270</td>\n",
       "      <td>56095.554688</td>\n",
       "      <td>264.659637</td>\n",
       "      <td>-59.642555</td>\n",
       "      <td>-18.933451</td>\n",
       "      <td>0.143170</td>\n",
       "      <td>15.379986</td>\n",
       "      <td>0.011185</td>\n",
       "      <td>salt2</td>\n",
       "    </tr>\n",
       "  </tbody>\n",
       "</table>\n",
       "</div>"
      ],
      "text/plain": [
       "         z     x1         c            t0          ra        dec     magabs  \\\n",
       "0  0.17305  0.175  0.438834  56049.628906  351.960083 -39.255589 -17.934202   \n",
       "1  0.01625 -0.735  0.045270  56095.554688  264.659637 -59.642555 -18.933451   \n",
       "\n",
       "      mwebv     magobs        x0 template  \n",
       "0  0.026303  21.743700  0.000032    salt2  \n",
       "1  0.143170  15.379986  0.011185    salt2  "
      ]
     },
     "execution_count": 23,
     "metadata": {},
     "output_type": "execute_result"
    }
   ],
   "source": [
    "snia.data.head(2)"
   ]
  },
  {
   "cell_type": "markdown",
   "id": "db610c7d-e62e-40f6-8815-fce1c98c3abd",
   "metadata": {},
   "source": [
    "The object now has a mwebv entry that is connected to the RA and Dec"
   ]
  },
  {
   "cell_type": "code",
   "execution_count": 24,
   "id": "c3e8214f-ebdb-4ab9-a7b4-b4f22644ce0f",
   "metadata": {},
   "outputs": [
    {
     "data": {
      "image/svg+xml": [
       "<svg xmlns=\"http://www.w3.org/2000/svg\" xmlns:xlink=\"http://www.w3.org/1999/xlink\" width=\"399pt\" height=\"260pt\" viewBox=\"0.00 0.00 399.00 260.00\">\n",
       "<g id=\"graph0\" class=\"graph\" transform=\"scale(1 1) rotate(0) translate(4 256)\">\n",
       "<polygon fill=\"white\" stroke=\"none\" points=\"-4,4 -4,-256 395,-256 395,4 -4,4\"/>\n",
       "<!-- z -->\n",
       "<g id=\"node1\" class=\"node\">\n",
       "<title>z</title>\n",
       "<ellipse fill=\"none\" stroke=\"black\" cx=\"27\" cy=\"-162\" rx=\"27\" ry=\"18\"/>\n",
       "<text text-anchor=\"middle\" x=\"27\" y=\"-156.95\" font-family=\"Times,serif\" font-size=\"14.00\">z</text>\n",
       "</g>\n",
       "<!-- magobs -->\n",
       "<g id=\"node2\" class=\"node\">\n",
       "<title>magobs</title>\n",
       "<ellipse fill=\"none\" stroke=\"black\" cx=\"69\" cy=\"-90\" rx=\"40.09\" ry=\"18\"/>\n",
       "<text text-anchor=\"middle\" x=\"69\" y=\"-84.95\" font-family=\"Times,serif\" font-size=\"14.00\">magobs</text>\n",
       "</g>\n",
       "<!-- z&#45;&gt;magobs -->\n",
       "<g id=\"edge1\" class=\"edge\">\n",
       "<title>z-&gt;magobs</title>\n",
       "<path fill=\"none\" stroke=\"black\" d=\"M36.74,-144.76C41.7,-136.49 47.86,-126.23 53.46,-116.9\"/>\n",
       "<polygon fill=\"black\" stroke=\"black\" points=\"56.88,-119.01 59.02,-108.63 50.87,-115.41 56.88,-119.01\"/>\n",
       "</g>\n",
       "<!-- x0 -->\n",
       "<g id=\"node3\" class=\"node\">\n",
       "<title>x0</title>\n",
       "<ellipse fill=\"none\" stroke=\"black\" cx=\"69\" cy=\"-18\" rx=\"27\" ry=\"18\"/>\n",
       "<text text-anchor=\"middle\" x=\"69\" y=\"-12.95\" font-family=\"Times,serif\" font-size=\"14.00\">x0</text>\n",
       "</g>\n",
       "<!-- magobs&#45;&gt;x0 -->\n",
       "<g id=\"edge2\" class=\"edge\">\n",
       "<title>magobs-&gt;x0</title>\n",
       "<path fill=\"none\" stroke=\"black\" d=\"M69,-71.7C69,-64.24 69,-55.32 69,-46.97\"/>\n",
       "<polygon fill=\"black\" stroke=\"black\" points=\"72.5,-47.1 69,-37.1 65.5,-47.1 72.5,-47.1\"/>\n",
       "</g>\n",
       "<!-- x1 -->\n",
       "<g id=\"node4\" class=\"node\">\n",
       "<title>x1</title>\n",
       "<ellipse fill=\"none\" stroke=\"black\" cx=\"76\" cy=\"-234\" rx=\"27\" ry=\"18\"/>\n",
       "<text text-anchor=\"middle\" x=\"76\" y=\"-228.95\" font-family=\"Times,serif\" font-size=\"14.00\">x1</text>\n",
       "</g>\n",
       "<!-- magabs -->\n",
       "<g id=\"node5\" class=\"node\">\n",
       "<title>magabs</title>\n",
       "<ellipse fill=\"none\" stroke=\"black\" cx=\"112\" cy=\"-162\" rx=\"39.58\" ry=\"18\"/>\n",
       "<text text-anchor=\"middle\" x=\"112\" y=\"-156.95\" font-family=\"Times,serif\" font-size=\"14.00\">magabs</text>\n",
       "</g>\n",
       "<!-- x1&#45;&gt;magabs -->\n",
       "<g id=\"edge3\" class=\"edge\">\n",
       "<title>x1-&gt;magabs</title>\n",
       "<path fill=\"none\" stroke=\"black\" d=\"M84.35,-216.76C88.56,-208.58 93.77,-198.45 98.53,-189.2\"/>\n",
       "<polygon fill=\"black\" stroke=\"black\" points=\"101.99,-191.12 103.45,-180.63 95.76,-187.92 101.99,-191.12\"/>\n",
       "</g>\n",
       "<!-- magabs&#45;&gt;magobs -->\n",
       "<g id=\"edge4\" class=\"edge\">\n",
       "<title>magabs-&gt;magobs</title>\n",
       "<path fill=\"none\" stroke=\"black\" d=\"M101.81,-144.41C96.72,-136.13 90.45,-125.92 84.76,-116.66\"/>\n",
       "<polygon fill=\"black\" stroke=\"black\" points=\"87.33,-115.16 79.12,-108.47 81.37,-118.82 87.33,-115.16\"/>\n",
       "</g>\n",
       "<!-- c -->\n",
       "<g id=\"node6\" class=\"node\">\n",
       "<title>c</title>\n",
       "<ellipse fill=\"none\" stroke=\"black\" cx=\"148\" cy=\"-234\" rx=\"27\" ry=\"18\"/>\n",
       "<text text-anchor=\"middle\" x=\"148\" y=\"-228.95\" font-family=\"Times,serif\" font-size=\"14.00\">c</text>\n",
       "</g>\n",
       "<!-- c&#45;&gt;magabs -->\n",
       "<g id=\"edge5\" class=\"edge\">\n",
       "<title>c-&gt;magabs</title>\n",
       "<path fill=\"none\" stroke=\"black\" d=\"M139.65,-216.76C135.44,-208.58 130.23,-198.45 125.47,-189.2\"/>\n",
       "<polygon fill=\"black\" stroke=\"black\" points=\"128.24,-187.92 120.55,-180.63 122.01,-191.12 128.24,-187.92\"/>\n",
       "</g>\n",
       "<!-- t0 -->\n",
       "<g id=\"node7\" class=\"node\">\n",
       "<title>t0</title>\n",
       "<ellipse fill=\"none\" stroke=\"black\" cx=\"220\" cy=\"-234\" rx=\"27\" ry=\"18\"/>\n",
       "<text text-anchor=\"middle\" x=\"220\" y=\"-228.95\" font-family=\"Times,serif\" font-size=\"14.00\">t0</text>\n",
       "</g>\n",
       "<!-- ra -->\n",
       "<g id=\"node8\" class=\"node\">\n",
       "<title>ra</title>\n",
       "<ellipse fill=\"none\" stroke=\"black\" cx=\"292\" cy=\"-234\" rx=\"27\" ry=\"18\"/>\n",
       "<text text-anchor=\"middle\" x=\"292\" y=\"-228.95\" font-family=\"Times,serif\" font-size=\"14.00\">ra</text>\n",
       "</g>\n",
       "<!-- mwebv -->\n",
       "<g id=\"node9\" class=\"node\">\n",
       "<title>mwebv</title>\n",
       "<ellipse fill=\"none\" stroke=\"black\" cx=\"328\" cy=\"-162\" rx=\"38.56\" ry=\"18\"/>\n",
       "<text text-anchor=\"middle\" x=\"328\" y=\"-156.95\" font-family=\"Times,serif\" font-size=\"14.00\">mwebv</text>\n",
       "</g>\n",
       "<!-- ra&#45;&gt;mwebv -->\n",
       "<g id=\"edge6\" class=\"edge\">\n",
       "<title>ra-&gt;mwebv</title>\n",
       "<path fill=\"none\" stroke=\"black\" d=\"M300.35,-216.76C304.56,-208.58 309.77,-198.45 314.53,-189.2\"/>\n",
       "<polygon fill=\"black\" stroke=\"black\" points=\"317.99,-191.12 319.45,-180.63 311.76,-187.92 317.99,-191.12\"/>\n",
       "</g>\n",
       "<!-- dec -->\n",
       "<g id=\"node10\" class=\"node\">\n",
       "<title>dec</title>\n",
       "<ellipse fill=\"none\" stroke=\"black\" cx=\"364\" cy=\"-234\" rx=\"27\" ry=\"18\"/>\n",
       "<text text-anchor=\"middle\" x=\"364\" y=\"-228.95\" font-family=\"Times,serif\" font-size=\"14.00\">dec</text>\n",
       "</g>\n",
       "<!-- dec&#45;&gt;mwebv -->\n",
       "<g id=\"edge7\" class=\"edge\">\n",
       "<title>dec-&gt;mwebv</title>\n",
       "<path fill=\"none\" stroke=\"black\" d=\"M355.65,-216.76C351.44,-208.58 346.23,-198.45 341.47,-189.2\"/>\n",
       "<polygon fill=\"black\" stroke=\"black\" points=\"344.24,-187.92 336.55,-180.63 338.01,-191.12 344.24,-187.92\"/>\n",
       "</g>\n",
       "</g>\n",
       "</svg>"
      ],
      "text/plain": [
       "<IPython.core.display.SVG object>"
      ]
     },
     "execution_count": 24,
     "metadata": {},
     "output_type": "execute_result"
    }
   ],
   "source": [
    "snia.model.visualize()"
   ]
  },
  {
   "cell_type": "code",
   "execution_count": 26,
   "id": "92cbd1ba-0db4-4b15-a7ed-5b17d5094d52",
   "metadata": {},
   "outputs": [
    {
     "data": {
      "text/plain": [
       "[<sncosmo.models.CCM89Dust at 0x15eb2c880>]"
      ]
     },
     "execution_count": 26,
     "metadata": {},
     "output_type": "execute_result"
    }
   ],
   "source": [
    "sncosmo_model = snia.get_template(as_model=True)\n",
    "sncosmo_model.effects"
   ]
  },
  {
   "cell_type": "code",
   "execution_count": 28,
   "id": "7d34cc5a-f69d-4539-b9f7-6ad221c89ffb",
   "metadata": {},
   "outputs": [
    {
     "data": {
      "text/plain": [
       "['z', 't0', 'x0', 'x1', 'c', 'mwebv', 'mwr_v']"
      ]
     },
     "execution_count": 28,
     "metadata": {},
     "output_type": "execute_result"
    }
   ],
   "source": [
    "snia.template_parameters"
   ]
  },
  {
   "cell_type": "code",
   "execution_count": null,
   "id": "d425e705-6220-4ea9-b0a3-f16a22bf5852",
   "metadata": {},
   "outputs": [],
   "source": []
  }
 ],
 "metadata": {
  "kernelspec": {
   "display_name": "Python 3 (ipykernel)",
   "language": "python",
   "name": "python3"
  },
  "language_info": {
   "codemirror_mode": {
    "name": "ipython",
    "version": 3
   },
   "file_extension": ".py",
   "mimetype": "text/x-python",
   "name": "python",
   "nbconvert_exporter": "python",
   "pygments_lexer": "ipython3",
   "version": "3.10.12"
  }
 },
 "nbformat": 4,
 "nbformat_minor": 5
}
