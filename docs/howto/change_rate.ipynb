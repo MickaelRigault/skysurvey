{
 "cells": [
  {
   "cell_type": "markdown",
   "id": "886d04af-81bc-46ee-8989-ff08b621c030",
   "metadata": {},
   "source": [
    "# Change the rate of a target\n",
    "\n",
    "In `skysurvey`, `rate` refers to the volumetric rate in `target/yr/Gpc^3` and is used while drawing the redshift. It enables for instance to know how many target to draw if only a time range and redshift range are specified. \n",
    "\n",
    "`rate` could be a constant (a float) and is thus understood as an universal rate. Alternatively, `rate` could be a function of redshift. It is then understood as the function that specifies how the (volumetric) `rate` of the target evolves with redshift. \n",
    "\n",
    "Each pre-computed `skysurvey` target has a default volumetric rate ; see `_RATE` (e.g., skysurvey.SNeIa._RATE). You can overwrite this rate while loading the target (see, the `(from_)draw()` `rate=` option) or using the `set_rate()` method. "
   ]
  },
  {
   "cell_type": "markdown",
   "id": "7ead39c4-5980-4a4c-9b91-3cb361b64aaa",
   "metadata": {},
   "source": [
    "## Change the volumetric rate: `rate=float`"
   ]
  },
  {
   "cell_type": "code",
   "execution_count": 3,
   "id": "f4eafd7b-715b-4928-bf97-9c19ed108493",
   "metadata": {},
   "outputs": [],
   "source": [
    "import skysurvey"
   ]
  },
  {
   "cell_type": "markdown",
   "id": "762b8ffc-8a0a-4662-8166-cd4e4bc7fb26",
   "metadata": {},
   "source": [
    "here, let's draw a SNIa, specifying a volumetric rate of 3e4 target/yr/Gpc^3. \n",
    "We draw that for 1 day and between z=[0, 0.1] full sky. "
   ]
  },
  {
   "cell_type": "code",
   "execution_count": 7,
   "id": "3fdfffaa-5c86-47b1-afb5-28b3450c8593",
   "metadata": {},
   "outputs": [],
   "source": [
    "snia = skysurvey.SNeIa.from_draw(tstart=0, tstop=1, \n",
    "                                zmin=0, zmax=0.1, \n",
    "                                rate=3e4)"
   ]
  },
  {
   "cell_type": "code",
   "execution_count": 8,
   "id": "dd9a4308-155a-4302-b7e9-e334454a961f",
   "metadata": {},
   "outputs": [
    {
     "data": {
      "text/plain": [
       "27"
      ]
     },
     "execution_count": 8,
     "metadata": {},
     "output_type": "execute_result"
    }
   ],
   "source": [
    "len(snia.data)"
   ]
  },
  {
   "cell_type": "markdown",
   "id": "06041e5a-e3c3-4376-80a1-e554f4485356",
   "metadata": {},
   "source": [
    "let's now change the rate to 5e5 and redraw"
   ]
  },
  {
   "cell_type": "code",
   "execution_count": 9,
   "id": "c8575f9f-fbe8-4add-b455-921c2bc51b25",
   "metadata": {},
   "outputs": [],
   "source": [
    "snia.set_rate(5e5)"
   ]
  },
  {
   "cell_type": "code",
   "execution_count": 10,
   "id": "ac8b654c-78c3-42ff-9012-32ba721ce5c8",
   "metadata": {},
   "outputs": [],
   "source": [
    "data = snia.draw(tstart=0, tstop=1, zmin=0, zmax=0.1, \n",
    "                inplace=True) # inplace to replace self.data"
   ]
  },
  {
   "cell_type": "code",
   "execution_count": 11,
   "id": "693cd2de-3e49-493d-a9d4-72533974c17d",
   "metadata": {},
   "outputs": [
    {
     "data": {
      "text/plain": [
       "464"
      ]
     },
     "execution_count": 11,
     "metadata": {},
     "output_type": "execute_result"
    }
   ],
   "source": [
    "len(snia.data)"
   ]
  },
  {
   "cell_type": "markdown",
   "id": "6238b63c-3202-45d4-84c8-7d6e78f9e741",
   "metadata": {},
   "source": [
    "## Change the Volumetric rate: `rate=function`"
   ]
  },
  {
   "cell_type": "markdown",
   "id": "5eeac65f-74a7-4bd2-9480-a3a64d74ef85",
   "metadata": {},
   "source": [
    "Let's say we want to draw a redshift evolving volumetric rate, as defined, e.g., by Frohmaier et al. 2019 (2019MNRAS.486.2308F) for SNIa. "
   ]
  },
  {
   "cell_type": "code",
   "execution_count": 22,
   "id": "82a5ad11-c711-4154-98ec-2b8ed9757b2b",
   "metadata": {},
   "outputs": [],
   "source": [
    "def evolving_rate(z, r0=2.3e4, alpha=1.70):\n",
    "    \"\"\" redshift dependent rate (target/yr/Gpc3) \n",
    "    as ``r = r0(1+z)^alpha`` \n",
    "    \n",
    "    Values from Frohmaier et al. 2019 (2019MNRAS.486.2308F).\n",
    "    Note: this paper specifies r0=2.3e-5 target/yr/Mpc3\n",
    "    => x1e9 to convert it into Gpc3.\n",
    "    \"\"\"\n",
    "    return r0*(1+z)**alpha"
   ]
  },
  {
   "cell_type": "markdown",
   "id": "9d9d9833-52dc-4c7d-9985-e7480ca1510f",
   "metadata": {},
   "source": [
    "let's draw SN Ia up to z=1 for 1 year and for 1 LSST field. "
   ]
  },
  {
   "cell_type": "code",
   "execution_count": 23,
   "id": "fc33ce04-c8c8-4f4c-9015-a4b00716c1cf",
   "metadata": {},
   "outputs": [],
   "source": [
    "from skysurvey import lsst"
   ]
  },
  {
   "cell_type": "code",
   "execution_count": 24,
   "id": "2e9610e3-b4b7-484b-8213-395c8b73e425",
   "metadata": {},
   "outputs": [],
   "source": [
    "skyarea = lsst.get_lsst_footprint()"
   ]
  },
  {
   "cell_type": "code",
   "execution_count": 25,
   "id": "6a99a516-049d-413b-9dd2-4cf35409999b",
   "metadata": {},
   "outputs": [],
   "source": [
    "snia = skysurvey.SNeIa.from_draw(skyarea=skyarea, \n",
    "                                 zmin=0.01, zmax=1,\n",
    "                                 rate=evolving_rate, \n",
    "                                 tstart=0, tstop=365)"
   ]
  },
  {
   "cell_type": "code",
   "execution_count": 26,
   "id": "47c3b761-8a1d-4bf3-9bd0-aa86f131f81f",
   "metadata": {},
   "outputs": [
    {
     "data": {
      "text/plain": [
       "28405"
      ]
     },
     "execution_count": 26,
     "metadata": {},
     "output_type": "execute_result"
    }
   ],
   "source": [
    "len(snia.data)"
   ]
  }
 ],
 "metadata": {
  "kernelspec": {
   "display_name": "Python 3 (ipykernel)",
   "language": "python",
   "name": "python3"
  },
  "language_info": {
   "codemirror_mode": {
    "name": "ipython",
    "version": 3
   },
   "file_extension": ".py",
   "mimetype": "text/x-python",
   "name": "python",
   "nbconvert_exporter": "python",
   "pygments_lexer": "ipython3",
   "version": "3.11.10"
  }
 },
 "nbformat": 4,
 "nbformat_minor": 5
}
