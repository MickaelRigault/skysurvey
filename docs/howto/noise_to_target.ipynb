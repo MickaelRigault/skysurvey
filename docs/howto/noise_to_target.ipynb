{
 "cells": [
  {
   "cell_type": "markdown",
   "id": "34a61d6d",
   "metadata": {},
   "source": [
    "# add gaussian noise to a `Target`\n",
    "\n",
    "You may want to generate a target with noise on the parameters without having to run the whole dataset + fitting process. \n",
    "\n",
    "The `apply_gaussian_noise` method of the ``Target`` object is made for that.\n",
    "\n",
    "### noise model follows the modeldag approach.\n",
    "\n",
    "The errors are drawn using the [modeldag](https://modeldag.readthedocs.io/) structure: `{\"name\": {\"func\": , \"kwargs\":{}}, }`\n",
    "\n",
    "This model specifies how the **parameter error** is drawn. Then, the \"observed\" parameter will be drawn from a normal distribution centered on the \"true\" parameter with the parameter error as width, so: ``param_obs = np.normal.rvs(loc=param_true, scale=param_err)``\n"
   ]
  },
  {
   "cell_type": "code",
   "execution_count": 1,
   "id": "3634666e",
   "metadata": {},
   "outputs": [],
   "source": [
    "import skysurvey\n",
    "import numpy as np"
   ]
  },
  {
   "cell_type": "markdown",
   "id": "8840e3db",
   "metadata": {},
   "source": [
    "***\n",
    "## Most simple case, random noise on 1 parameter\n",
    "\n",
    "\n",
    "### step 0: create a timeserie target based on the \"v19-2005bf\" sncosmo template."
   ]
  },
  {
   "cell_type": "code",
   "execution_count": 7,
   "id": "44ad071b",
   "metadata": {},
   "outputs": [
    {
     "data": {
      "text/html": [
       "<div>\n",
       "<style scoped>\n",
       "    .dataframe tbody tr th:only-of-type {\n",
       "        vertical-align: middle;\n",
       "    }\n",
       "\n",
       "    .dataframe tbody tr th {\n",
       "        vertical-align: top;\n",
       "    }\n",
       "\n",
       "    .dataframe thead th {\n",
       "        text-align: right;\n",
       "    }\n",
       "</style>\n",
       "<table border=\"1\" class=\"dataframe\">\n",
       "  <thead>\n",
       "    <tr style=\"text-align: right;\">\n",
       "      <th></th>\n",
       "      <th>z</th>\n",
       "      <th>t0</th>\n",
       "      <th>magabs</th>\n",
       "      <th>ra</th>\n",
       "      <th>dec</th>\n",
       "      <th>magobs</th>\n",
       "      <th>amplitude</th>\n",
       "      <th>template</th>\n",
       "    </tr>\n",
       "  </thead>\n",
       "  <tbody>\n",
       "    <tr>\n",
       "      <th>0</th>\n",
       "      <td>0.02505</td>\n",
       "      <td>56189.019531</td>\n",
       "      <td>-18.655567</td>\n",
       "      <td>115.120918</td>\n",
       "      <td>-76.724373</td>\n",
       "      <td>16.611847</td>\n",
       "      <td>1.240252e-14</td>\n",
       "      <td>v19-2005bf</td>\n",
       "    </tr>\n",
       "    <tr>\n",
       "      <th>1</th>\n",
       "      <td>0.04825</td>\n",
       "      <td>56112.398438</td>\n",
       "      <td>-17.194258</td>\n",
       "      <td>200.798187</td>\n",
       "      <td>-39.482414</td>\n",
       "      <td>19.533182</td>\n",
       "      <td>8.413479e-16</td>\n",
       "      <td>v19-2005bf</td>\n",
       "    </tr>\n",
       "    <tr>\n",
       "      <th>2</th>\n",
       "      <td>0.04545</td>\n",
       "      <td>56178.195312</td>\n",
       "      <td>-18.262510</td>\n",
       "      <td>43.040348</td>\n",
       "      <td>22.518963</td>\n",
       "      <td>18.330763</td>\n",
       "      <td>2.546497e-15</td>\n",
       "      <td>v19-2005bf</td>\n",
       "    </tr>\n",
       "  </tbody>\n",
       "</table>\n",
       "</div>"
      ],
      "text/plain": [
       "         z            t0     magabs          ra        dec     magobs  \\\n",
       "0  0.02505  56189.019531 -18.655567  115.120918 -76.724373  16.611847   \n",
       "1  0.04825  56112.398438 -17.194258  200.798187 -39.482414  19.533182   \n",
       "2  0.04545  56178.195312 -18.262510   43.040348  22.518963  18.330763   \n",
       "\n",
       "      amplitude    template  \n",
       "0  1.240252e-14  v19-2005bf  \n",
       "1  8.413479e-16  v19-2005bf  \n",
       "2  2.546497e-15  v19-2005bf  "
      ]
     },
     "execution_count": 7,
     "metadata": {},
     "output_type": "execute_result"
    }
   ],
   "source": [
    "target = skysurvey.TSTransient(source_or_template=\"v19-2005bf\")\n",
    "# specify the absolute magnitude of the target (nan by default)\n",
    "target.set_magabs([-18, 1])\n",
    "\n",
    "# draw 1000 target, use inplace=True to change self.data\n",
    "_ = target.draw(1_000, inplace=True)\n",
    "target.data.head(3)"
   ]
  },
  {
   "cell_type": "markdown",
   "id": "e21a9398",
   "metadata": {},
   "source": [
    "### step 1: create an errormodel for `magobs`\n",
    "\n",
    "Let's draw error on `magobs` assuming they are $0.1 ± 0.01$:"
   ]
  },
  {
   "cell_type": "code",
   "execution_count": 8,
   "id": "c8efa425",
   "metadata": {},
   "outputs": [],
   "source": [
    "import numpy as np\n",
    "errormodel = {\"magobs\": {\"func\": np.random.normal, \"kwargs\":{\"loc\":0.1, \"scale\":0.01}} }"
   ]
  },
  {
   "cell_type": "markdown",
   "id": "20341f76",
   "metadata": {},
   "source": [
    "### step 2: apply gaussian noise to the target's parameter\n",
    "\n",
    "You will have a warning message, because the code doesn't know who to draw the error. "
   ]
  },
  {
   "cell_type": "code",
   "execution_count": 9,
   "id": "627e6eb7",
   "metadata": {},
   "outputs": [
    {
     "data": {
      "text/html": [
       "<div>\n",
       "<style scoped>\n",
       "    .dataframe tbody tr th:only-of-type {\n",
       "        vertical-align: middle;\n",
       "    }\n",
       "\n",
       "    .dataframe tbody tr th {\n",
       "        vertical-align: top;\n",
       "    }\n",
       "\n",
       "    .dataframe thead th {\n",
       "        text-align: right;\n",
       "    }\n",
       "</style>\n",
       "<table border=\"1\" class=\"dataframe\">\n",
       "  <thead>\n",
       "    <tr style=\"text-align: right;\">\n",
       "      <th></th>\n",
       "      <th>z</th>\n",
       "      <th>t0</th>\n",
       "      <th>magabs</th>\n",
       "      <th>ra</th>\n",
       "      <th>dec</th>\n",
       "      <th>magobs_true</th>\n",
       "      <th>amplitude</th>\n",
       "      <th>template</th>\n",
       "      <th>magobs_err</th>\n",
       "      <th>magobs</th>\n",
       "    </tr>\n",
       "  </thead>\n",
       "  <tbody>\n",
       "    <tr>\n",
       "      <th>0</th>\n",
       "      <td>0.02505</td>\n",
       "      <td>56189.019531</td>\n",
       "      <td>-18.655567</td>\n",
       "      <td>115.120918</td>\n",
       "      <td>-76.724373</td>\n",
       "      <td>16.611847</td>\n",
       "      <td>1.240252e-14</td>\n",
       "      <td>v19-2005bf</td>\n",
       "      <td>0.108406</td>\n",
       "      <td>16.551349</td>\n",
       "    </tr>\n",
       "  </tbody>\n",
       "</table>\n",
       "</div>"
      ],
      "text/plain": [
       "         z            t0     magabs          ra        dec  magobs_true  \\\n",
       "0  0.02505  56189.019531 -18.655567  115.120918 -76.724373    16.611847   \n",
       "\n",
       "      amplitude    template  magobs_err     magobs  \n",
       "0  1.240252e-14  v19-2005bf    0.108406  16.551349  "
      ]
     },
     "execution_count": 9,
     "metadata": {},
     "output_type": "execute_result"
    }
   ],
   "source": [
    "noisy_target = target.apply_gaussian_noise(errormodel)\n",
    "noisy_target.data.head(1)"
   ]
  },
  {
   "cell_type": "markdown",
   "id": "2b4ded5d-5be9-4b02-9490-443483452381",
   "metadata": {},
   "source": [
    "### what happened ?\n",
    "\n",
    "for each parameter given in the errormodel (here, only `magobs`):\n",
    "\n",
    "  1. rename `{parameter}` as `{parameter}_true`\n",
    "  2. draw `{parameter}_{err}` following the errormodel\n",
    "  4. draw `{parameter}` from a normal distribution centered on `{parameter}_true` with a width of `{parameter}_{err}`"
   ]
  },
  {
   "cell_type": "code",
   "execution_count": null,
   "id": "6c1c499f-89a3-42c2-934d-d7e9ebea89df",
   "metadata": {},
   "outputs": [],
   "source": []
  }
 ],
 "metadata": {
  "kernelspec": {
   "display_name": "Python 3 (ipykernel)",
   "language": "python",
   "name": "python3"
  },
  "language_info": {
   "codemirror_mode": {
    "name": "ipython",
    "version": 3
   },
   "file_extension": ".py",
   "mimetype": "text/x-python",
   "name": "python",
   "nbconvert_exporter": "python",
   "pygments_lexer": "ipython3",
   "version": "3.11.10"
  }
 },
 "nbformat": 4,
 "nbformat_minor": 5
}
