{
 "cells": [
  {
   "cell_type": "markdown",
   "id": "34a61d6d",
   "metadata": {},
   "source": [
    "# add gaussian noise to a `Target`\n",
    "\n",
    "You may want to generate a target with noise on the parameters without having to run the whole dataset + fitting process. \n",
    "\n",
    "The `apply_gaussian_noise` method of the ``Target`` object is made for that.\n",
    "\n",
    "### noise model follows the modeldag approach.\n",
    "\n",
    "The errors are drawn using the [modeldag](https://modeldag.readthedocs.io/) structure: `{\"name\": {\"func\": , \"kwargs\":{}}, }`\n",
    "\n",
    "This model specifies how the **parameter error** is drawn. Then, the \"observed\" parameter will be drawn from a normal distribution centered on the \"true\" parameter with the parameter error as width, so: ``param_obs = np.normal.rvs(loc=param_true, scale=param_err)``\n"
   ]
  },
  {
   "cell_type": "code",
   "execution_count": 1,
   "id": "3634666e",
   "metadata": {},
   "outputs": [],
   "source": [
    "import skysurvey\n",
    "import numpy as np"
   ]
  },
  {
   "cell_type": "markdown",
   "id": "8840e3db",
   "metadata": {},
   "source": [
    "***\n",
    "## Most simple case, random noise on 1 parameter\n",
    "\n",
    "\n",
    "### step 0: create a timeserie target based on the \"v19-2005bf\" sncosmo template."
   ]
  },
  {
   "cell_type": "code",
   "execution_count": 2,
   "id": "44ad071b",
   "metadata": {},
   "outputs": [
    {
     "data": {
      "text/html": [
       "<div>\n",
       "<style scoped>\n",
       "    .dataframe tbody tr th:only-of-type {\n",
       "        vertical-align: middle;\n",
       "    }\n",
       "\n",
       "    .dataframe tbody tr th {\n",
       "        vertical-align: top;\n",
       "    }\n",
       "\n",
       "    .dataframe thead th {\n",
       "        text-align: right;\n",
       "    }\n",
       "</style>\n",
       "<table border=\"1\" class=\"dataframe\">\n",
       "  <thead>\n",
       "    <tr style=\"text-align: right;\">\n",
       "      <th></th>\n",
       "      <th>z</th>\n",
       "      <th>t0</th>\n",
       "      <th>magabs</th>\n",
       "      <th>ra</th>\n",
       "      <th>dec</th>\n",
       "      <th>magobs</th>\n",
       "      <th>amplitude</th>\n",
       "      <th>template</th>\n",
       "    </tr>\n",
       "  </thead>\n",
       "  <tbody>\n",
       "    <tr>\n",
       "      <th>0</th>\n",
       "      <td>0.04975</td>\n",
       "      <td>56161.144531</td>\n",
       "      <td>-18.235994</td>\n",
       "      <td>236.218323</td>\n",
       "      <td>-50.208084</td>\n",
       "      <td>18.560247</td>\n",
       "      <td>2.061340e-15</td>\n",
       "      <td>v19-2005bf</td>\n",
       "    </tr>\n",
       "    <tr>\n",
       "      <th>1</th>\n",
       "      <td>0.03465</td>\n",
       "      <td>56133.472656</td>\n",
       "      <td>-17.618185</td>\n",
       "      <td>206.327972</td>\n",
       "      <td>20.946062</td>\n",
       "      <td>18.368994</td>\n",
       "      <td>2.458392e-15</td>\n",
       "      <td>v19-2005bf</td>\n",
       "    </tr>\n",
       "    <tr>\n",
       "      <th>2</th>\n",
       "      <td>0.03275</td>\n",
       "      <td>56057.433594</td>\n",
       "      <td>-16.855042</td>\n",
       "      <td>203.391037</td>\n",
       "      <td>-4.293055</td>\n",
       "      <td>19.006668</td>\n",
       "      <td>1.366411e-15</td>\n",
       "      <td>v19-2005bf</td>\n",
       "    </tr>\n",
       "  </tbody>\n",
       "</table>\n",
       "</div>"
      ],
      "text/plain": [
       "         z            t0     magabs          ra        dec     magobs  \\\n",
       "0  0.04975  56161.144531 -18.235994  236.218323 -50.208084  18.560247   \n",
       "1  0.03465  56133.472656 -17.618185  206.327972  20.946062  18.368994   \n",
       "2  0.03275  56057.433594 -16.855042  203.391037  -4.293055  19.006668   \n",
       "\n",
       "      amplitude    template  \n",
       "0  2.061340e-15  v19-2005bf  \n",
       "1  2.458392e-15  v19-2005bf  \n",
       "2  1.366411e-15  v19-2005bf  "
      ]
     },
     "execution_count": 2,
     "metadata": {},
     "output_type": "execute_result"
    }
   ],
   "source": [
    "target = skysurvey.TSTransient.from_draw(1_000, template=\"v19-2005bf\")\n",
    "target.data.head(3)"
   ]
  },
  {
   "cell_type": "markdown",
   "id": "e21a9398",
   "metadata": {},
   "source": [
    "### step 1: create an errormodel for `magobs`\n",
    "\n",
    "Let's draw error on `magobs` assuming they are $0.1 ± 0.01$:"
   ]
  },
  {
   "cell_type": "code",
   "execution_count": 3,
   "id": "c8efa425",
   "metadata": {},
   "outputs": [],
   "source": [
    "import numpy as np\n",
    "errormodel = {\"magobs\": {\"func\": np.random.normal, \"kwargs\":{\"loc\":0.1, \"scale\":0.01}} }"
   ]
  },
  {
   "cell_type": "markdown",
   "id": "20341f76",
   "metadata": {},
   "source": [
    "### step 2: apply gaussian noise to the target's parameter\n",
    "\n",
    "You will have a warning message, because the code doesn't know who to draw the error. "
   ]
  },
  {
   "cell_type": "code",
   "execution_count": 4,
   "id": "627e6eb7",
   "metadata": {},
   "outputs": [
    {
     "data": {
      "text/html": [
       "<div>\n",
       "<style scoped>\n",
       "    .dataframe tbody tr th:only-of-type {\n",
       "        vertical-align: middle;\n",
       "    }\n",
       "\n",
       "    .dataframe tbody tr th {\n",
       "        vertical-align: top;\n",
       "    }\n",
       "\n",
       "    .dataframe thead th {\n",
       "        text-align: right;\n",
       "    }\n",
       "</style>\n",
       "<table border=\"1\" class=\"dataframe\">\n",
       "  <thead>\n",
       "    <tr style=\"text-align: right;\">\n",
       "      <th></th>\n",
       "      <th>z</th>\n",
       "      <th>t0</th>\n",
       "      <th>magabs</th>\n",
       "      <th>ra</th>\n",
       "      <th>dec</th>\n",
       "      <th>magobs_true</th>\n",
       "      <th>amplitude</th>\n",
       "      <th>template</th>\n",
       "      <th>magobs_err</th>\n",
       "      <th>magobs</th>\n",
       "    </tr>\n",
       "  </thead>\n",
       "  <tbody>\n",
       "    <tr>\n",
       "      <th>0</th>\n",
       "      <td>0.04975</td>\n",
       "      <td>56161.144531</td>\n",
       "      <td>-18.235994</td>\n",
       "      <td>236.218323</td>\n",
       "      <td>-50.208084</td>\n",
       "      <td>18.560247</td>\n",
       "      <td>2.061340e-15</td>\n",
       "      <td>v19-2005bf</td>\n",
       "      <td>0.103534</td>\n",
       "      <td>18.453947</td>\n",
       "    </tr>\n",
       "  </tbody>\n",
       "</table>\n",
       "</div>"
      ],
      "text/plain": [
       "         z            t0     magabs          ra        dec  magobs_true  \\\n",
       "0  0.04975  56161.144531 -18.235994  236.218323 -50.208084    18.560247   \n",
       "\n",
       "      amplitude    template  magobs_err     magobs  \n",
       "0  2.061340e-15  v19-2005bf    0.103534  18.453947  "
      ]
     },
     "execution_count": 4,
     "metadata": {},
     "output_type": "execute_result"
    }
   ],
   "source": [
    "noisy_target = target.apply_gaussian_noise(errormodel)\n",
    "noisy_target.data.head(1)"
   ]
  },
  {
   "cell_type": "markdown",
   "id": "2b4ded5d-5be9-4b02-9490-443483452381",
   "metadata": {},
   "source": [
    "### what happend ?\n",
    "\n",
    "for each parameter given in the errormodel (here, only `magobs`):\n",
    "\n",
    "  1. rename `{parameter}` as `{parameter}_true`\n",
    "  2. draw `{parameter}_{err}` following the errormodel\n",
    "  4. draw `{parameter}` from a normal distribution centered on `{parameter}_true` with a width of `{parameter}_{err}`"
   ]
  },
  {
   "cell_type": "code",
   "execution_count": null,
   "id": "6c1c499f-89a3-42c2-934d-d7e9ebea89df",
   "metadata": {},
   "outputs": [],
   "source": []
  }
 ],
 "metadata": {
  "kernelspec": {
   "display_name": "Python 3 (ipykernel)",
   "language": "python",
   "name": "python3"
  },
  "language_info": {
   "codemirror_mode": {
    "name": "ipython",
    "version": 3
   },
   "file_extension": ".py",
   "mimetype": "text/x-python",
   "name": "python",
   "nbconvert_exporter": "python",
   "pygments_lexer": "ipython3",
   "version": "3.10.12"
  }
 },
 "nbformat": 4,
 "nbformat_minor": 5
}
